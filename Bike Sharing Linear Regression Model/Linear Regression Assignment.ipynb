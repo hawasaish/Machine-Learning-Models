{
 "cells": [
  {
   "cell_type": "markdown",
   "metadata": {},
   "source": [
    "# Linear Regression Assignment: BoomBikes"
   ]
  },
  {
   "cell_type": "markdown",
   "metadata": {},
   "source": [
    "## Step 1: Reading and Understanding the Data"
   ]
  },
  {
   "cell_type": "code",
   "execution_count": 1,
   "metadata": {},
   "outputs": [],
   "source": [
    "# Importing the libraries\n",
    "import numpy as np\n",
    "import pandas as pd\n",
    "import matplotlib.pyplot as plt\n",
    "%matplotlib inline\n",
    "import seaborn as sns\n",
    "\n",
    "# For ignoring the warnings\n",
    "import warnings\n",
    "warnings.filterwarnings('ignore')"
   ]
  },
  {
   "cell_type": "code",
   "execution_count": 2,
   "metadata": {},
   "outputs": [],
   "source": [
    "# Reading the csv file\n",
    "bikes = pd.read_csv('day.csv', index_col='instant')"
   ]
  },
  {
   "cell_type": "code",
   "execution_count": 3,
   "metadata": {},
   "outputs": [
    {
     "data": {
      "text/html": [
       "<div>\n",
       "<style scoped>\n",
       "    .dataframe tbody tr th:only-of-type {\n",
       "        vertical-align: middle;\n",
       "    }\n",
       "\n",
       "    .dataframe tbody tr th {\n",
       "        vertical-align: top;\n",
       "    }\n",
       "\n",
       "    .dataframe thead th {\n",
       "        text-align: right;\n",
       "    }\n",
       "</style>\n",
       "<table border=\"1\" class=\"dataframe\">\n",
       "  <thead>\n",
       "    <tr style=\"text-align: right;\">\n",
       "      <th></th>\n",
       "      <th>dteday</th>\n",
       "      <th>season</th>\n",
       "      <th>yr</th>\n",
       "      <th>mnth</th>\n",
       "      <th>holiday</th>\n",
       "      <th>weekday</th>\n",
       "      <th>workingday</th>\n",
       "      <th>weathersit</th>\n",
       "      <th>temp</th>\n",
       "      <th>atemp</th>\n",
       "      <th>hum</th>\n",
       "      <th>windspeed</th>\n",
       "      <th>casual</th>\n",
       "      <th>registered</th>\n",
       "      <th>cnt</th>\n",
       "    </tr>\n",
       "    <tr>\n",
       "      <th>instant</th>\n",
       "      <th></th>\n",
       "      <th></th>\n",
       "      <th></th>\n",
       "      <th></th>\n",
       "      <th></th>\n",
       "      <th></th>\n",
       "      <th></th>\n",
       "      <th></th>\n",
       "      <th></th>\n",
       "      <th></th>\n",
       "      <th></th>\n",
       "      <th></th>\n",
       "      <th></th>\n",
       "      <th></th>\n",
       "      <th></th>\n",
       "    </tr>\n",
       "  </thead>\n",
       "  <tbody>\n",
       "    <tr>\n",
       "      <th>1</th>\n",
       "      <td>01-01-2018</td>\n",
       "      <td>1</td>\n",
       "      <td>0</td>\n",
       "      <td>1</td>\n",
       "      <td>0</td>\n",
       "      <td>1</td>\n",
       "      <td>1</td>\n",
       "      <td>2</td>\n",
       "      <td>14.110847</td>\n",
       "      <td>18.18125</td>\n",
       "      <td>80.5833</td>\n",
       "      <td>10.749882</td>\n",
       "      <td>331</td>\n",
       "      <td>654</td>\n",
       "      <td>985</td>\n",
       "    </tr>\n",
       "    <tr>\n",
       "      <th>2</th>\n",
       "      <td>02-01-2018</td>\n",
       "      <td>1</td>\n",
       "      <td>0</td>\n",
       "      <td>1</td>\n",
       "      <td>0</td>\n",
       "      <td>2</td>\n",
       "      <td>1</td>\n",
       "      <td>2</td>\n",
       "      <td>14.902598</td>\n",
       "      <td>17.68695</td>\n",
       "      <td>69.6087</td>\n",
       "      <td>16.652113</td>\n",
       "      <td>131</td>\n",
       "      <td>670</td>\n",
       "      <td>801</td>\n",
       "    </tr>\n",
       "    <tr>\n",
       "      <th>3</th>\n",
       "      <td>03-01-2018</td>\n",
       "      <td>1</td>\n",
       "      <td>0</td>\n",
       "      <td>1</td>\n",
       "      <td>0</td>\n",
       "      <td>3</td>\n",
       "      <td>1</td>\n",
       "      <td>1</td>\n",
       "      <td>8.050924</td>\n",
       "      <td>9.47025</td>\n",
       "      <td>43.7273</td>\n",
       "      <td>16.636703</td>\n",
       "      <td>120</td>\n",
       "      <td>1229</td>\n",
       "      <td>1349</td>\n",
       "    </tr>\n",
       "    <tr>\n",
       "      <th>4</th>\n",
       "      <td>04-01-2018</td>\n",
       "      <td>1</td>\n",
       "      <td>0</td>\n",
       "      <td>1</td>\n",
       "      <td>0</td>\n",
       "      <td>4</td>\n",
       "      <td>1</td>\n",
       "      <td>1</td>\n",
       "      <td>8.200000</td>\n",
       "      <td>10.60610</td>\n",
       "      <td>59.0435</td>\n",
       "      <td>10.739832</td>\n",
       "      <td>108</td>\n",
       "      <td>1454</td>\n",
       "      <td>1562</td>\n",
       "    </tr>\n",
       "    <tr>\n",
       "      <th>5</th>\n",
       "      <td>05-01-2018</td>\n",
       "      <td>1</td>\n",
       "      <td>0</td>\n",
       "      <td>1</td>\n",
       "      <td>0</td>\n",
       "      <td>5</td>\n",
       "      <td>1</td>\n",
       "      <td>1</td>\n",
       "      <td>9.305237</td>\n",
       "      <td>11.46350</td>\n",
       "      <td>43.6957</td>\n",
       "      <td>12.522300</td>\n",
       "      <td>82</td>\n",
       "      <td>1518</td>\n",
       "      <td>1600</td>\n",
       "    </tr>\n",
       "  </tbody>\n",
       "</table>\n",
       "</div>"
      ],
      "text/plain": [
       "             dteday  season  yr  mnth  holiday  weekday  workingday  \\\n",
       "instant                                                               \n",
       "1        01-01-2018       1   0     1        0        1           1   \n",
       "2        02-01-2018       1   0     1        0        2           1   \n",
       "3        03-01-2018       1   0     1        0        3           1   \n",
       "4        04-01-2018       1   0     1        0        4           1   \n",
       "5        05-01-2018       1   0     1        0        5           1   \n",
       "\n",
       "         weathersit       temp     atemp      hum  windspeed  casual  \\\n",
       "instant                                                                \n",
       "1                 2  14.110847  18.18125  80.5833  10.749882     331   \n",
       "2                 2  14.902598  17.68695  69.6087  16.652113     131   \n",
       "3                 1   8.050924   9.47025  43.7273  16.636703     120   \n",
       "4                 1   8.200000  10.60610  59.0435  10.739832     108   \n",
       "5                 1   9.305237  11.46350  43.6957  12.522300      82   \n",
       "\n",
       "         registered   cnt  \n",
       "instant                    \n",
       "1               654   985  \n",
       "2               670   801  \n",
       "3              1229  1349  \n",
       "4              1454  1562  \n",
       "5              1518  1600  "
      ]
     },
     "execution_count": 3,
     "metadata": {},
     "output_type": "execute_result"
    }
   ],
   "source": [
    "# Checking the first 5 columns of dataset\n",
    "bikes.head()"
   ]
  },
  {
   "cell_type": "code",
   "execution_count": 4,
   "metadata": {},
   "outputs": [
    {
     "data": {
      "text/plain": [
       "(730, 15)"
      ]
     },
     "execution_count": 4,
     "metadata": {},
     "output_type": "execute_result"
    }
   ],
   "source": [
    "# Checking the number of rows and columns\n",
    "bikes.shape"
   ]
  },
  {
   "cell_type": "markdown",
   "metadata": {},
   "source": [
    "### 1.1 Data Quality check"
   ]
  },
  {
   "cell_type": "code",
   "execution_count": 5,
   "metadata": {
    "scrolled": false
   },
   "outputs": [
    {
     "name": "stdout",
     "output_type": "stream",
     "text": [
      "<class 'pandas.core.frame.DataFrame'>\n",
      "Int64Index: 730 entries, 1 to 730\n",
      "Data columns (total 15 columns):\n",
      " #   Column      Non-Null Count  Dtype  \n",
      "---  ------      --------------  -----  \n",
      " 0   dteday      730 non-null    object \n",
      " 1   season      730 non-null    int64  \n",
      " 2   yr          730 non-null    int64  \n",
      " 3   mnth        730 non-null    int64  \n",
      " 4   holiday     730 non-null    int64  \n",
      " 5   weekday     730 non-null    int64  \n",
      " 6   workingday  730 non-null    int64  \n",
      " 7   weathersit  730 non-null    int64  \n",
      " 8   temp        730 non-null    float64\n",
      " 9   atemp       730 non-null    float64\n",
      " 10  hum         730 non-null    float64\n",
      " 11  windspeed   730 non-null    float64\n",
      " 12  casual      730 non-null    int64  \n",
      " 13  registered  730 non-null    int64  \n",
      " 14  cnt         730 non-null    int64  \n",
      "dtypes: float64(4), int64(10), object(1)\n",
      "memory usage: 91.2+ KB\n"
     ]
    }
   ],
   "source": [
    "# Checking the info\n",
    "bikes.info()"
   ]
  },
  {
   "cell_type": "code",
   "execution_count": 6,
   "metadata": {},
   "outputs": [
    {
     "data": {
      "text/plain": [
       "dteday        0.0\n",
       "season        0.0\n",
       "yr            0.0\n",
       "mnth          0.0\n",
       "holiday       0.0\n",
       "weekday       0.0\n",
       "workingday    0.0\n",
       "weathersit    0.0\n",
       "temp          0.0\n",
       "atemp         0.0\n",
       "hum           0.0\n",
       "windspeed     0.0\n",
       "casual        0.0\n",
       "registered    0.0\n",
       "cnt           0.0\n",
       "dtype: float64"
      ]
     },
     "execution_count": 6,
     "metadata": {},
     "output_type": "execute_result"
    }
   ],
   "source": [
    "# Checking the percentage of null values in all columns\n",
    "(bikes.isnull().sum()/len(bikes))*100"
   ]
  },
  {
   "cell_type": "markdown",
   "metadata": {},
   "source": [
    "- We can see that, there are no null values in any of the columns."
   ]
  },
  {
   "cell_type": "code",
   "execution_count": 7,
   "metadata": {},
   "outputs": [
    {
     "data": {
      "text/html": [
       "<div>\n",
       "<style scoped>\n",
       "    .dataframe tbody tr th:only-of-type {\n",
       "        vertical-align: middle;\n",
       "    }\n",
       "\n",
       "    .dataframe tbody tr th {\n",
       "        vertical-align: top;\n",
       "    }\n",
       "\n",
       "    .dataframe thead th {\n",
       "        text-align: right;\n",
       "    }\n",
       "</style>\n",
       "<table border=\"1\" class=\"dataframe\">\n",
       "  <thead>\n",
       "    <tr style=\"text-align: right;\">\n",
       "      <th></th>\n",
       "      <th>season</th>\n",
       "      <th>yr</th>\n",
       "      <th>mnth</th>\n",
       "      <th>holiday</th>\n",
       "      <th>weekday</th>\n",
       "      <th>workingday</th>\n",
       "      <th>weathersit</th>\n",
       "      <th>temp</th>\n",
       "      <th>atemp</th>\n",
       "      <th>hum</th>\n",
       "      <th>windspeed</th>\n",
       "      <th>casual</th>\n",
       "      <th>registered</th>\n",
       "      <th>cnt</th>\n",
       "    </tr>\n",
       "  </thead>\n",
       "  <tbody>\n",
       "    <tr>\n",
       "      <th>count</th>\n",
       "      <td>730.000000</td>\n",
       "      <td>730.000000</td>\n",
       "      <td>730.000000</td>\n",
       "      <td>730.000000</td>\n",
       "      <td>730.000000</td>\n",
       "      <td>730.000000</td>\n",
       "      <td>730.000000</td>\n",
       "      <td>730.000000</td>\n",
       "      <td>730.000000</td>\n",
       "      <td>730.000000</td>\n",
       "      <td>730.000000</td>\n",
       "      <td>730.000000</td>\n",
       "      <td>730.000000</td>\n",
       "      <td>730.000000</td>\n",
       "    </tr>\n",
       "    <tr>\n",
       "      <th>mean</th>\n",
       "      <td>2.498630</td>\n",
       "      <td>0.500000</td>\n",
       "      <td>6.526027</td>\n",
       "      <td>0.028767</td>\n",
       "      <td>2.995890</td>\n",
       "      <td>0.690411</td>\n",
       "      <td>1.394521</td>\n",
       "      <td>20.319259</td>\n",
       "      <td>23.726322</td>\n",
       "      <td>62.765175</td>\n",
       "      <td>12.763620</td>\n",
       "      <td>849.249315</td>\n",
       "      <td>3658.757534</td>\n",
       "      <td>4508.006849</td>\n",
       "    </tr>\n",
       "    <tr>\n",
       "      <th>std</th>\n",
       "      <td>1.110184</td>\n",
       "      <td>0.500343</td>\n",
       "      <td>3.450215</td>\n",
       "      <td>0.167266</td>\n",
       "      <td>2.000339</td>\n",
       "      <td>0.462641</td>\n",
       "      <td>0.544807</td>\n",
       "      <td>7.506729</td>\n",
       "      <td>8.150308</td>\n",
       "      <td>14.237589</td>\n",
       "      <td>5.195841</td>\n",
       "      <td>686.479875</td>\n",
       "      <td>1559.758728</td>\n",
       "      <td>1936.011647</td>\n",
       "    </tr>\n",
       "    <tr>\n",
       "      <th>min</th>\n",
       "      <td>1.000000</td>\n",
       "      <td>0.000000</td>\n",
       "      <td>1.000000</td>\n",
       "      <td>0.000000</td>\n",
       "      <td>0.000000</td>\n",
       "      <td>0.000000</td>\n",
       "      <td>1.000000</td>\n",
       "      <td>2.424346</td>\n",
       "      <td>3.953480</td>\n",
       "      <td>0.000000</td>\n",
       "      <td>1.500244</td>\n",
       "      <td>2.000000</td>\n",
       "      <td>20.000000</td>\n",
       "      <td>22.000000</td>\n",
       "    </tr>\n",
       "    <tr>\n",
       "      <th>25%</th>\n",
       "      <td>2.000000</td>\n",
       "      <td>0.000000</td>\n",
       "      <td>4.000000</td>\n",
       "      <td>0.000000</td>\n",
       "      <td>1.000000</td>\n",
       "      <td>0.000000</td>\n",
       "      <td>1.000000</td>\n",
       "      <td>13.811885</td>\n",
       "      <td>16.889713</td>\n",
       "      <td>52.000000</td>\n",
       "      <td>9.041650</td>\n",
       "      <td>316.250000</td>\n",
       "      <td>2502.250000</td>\n",
       "      <td>3169.750000</td>\n",
       "    </tr>\n",
       "    <tr>\n",
       "      <th>50%</th>\n",
       "      <td>3.000000</td>\n",
       "      <td>0.500000</td>\n",
       "      <td>7.000000</td>\n",
       "      <td>0.000000</td>\n",
       "      <td>3.000000</td>\n",
       "      <td>1.000000</td>\n",
       "      <td>1.000000</td>\n",
       "      <td>20.465826</td>\n",
       "      <td>24.368225</td>\n",
       "      <td>62.625000</td>\n",
       "      <td>12.125325</td>\n",
       "      <td>717.000000</td>\n",
       "      <td>3664.500000</td>\n",
       "      <td>4548.500000</td>\n",
       "    </tr>\n",
       "    <tr>\n",
       "      <th>75%</th>\n",
       "      <td>3.000000</td>\n",
       "      <td>1.000000</td>\n",
       "      <td>10.000000</td>\n",
       "      <td>0.000000</td>\n",
       "      <td>5.000000</td>\n",
       "      <td>1.000000</td>\n",
       "      <td>2.000000</td>\n",
       "      <td>26.880615</td>\n",
       "      <td>30.445775</td>\n",
       "      <td>72.989575</td>\n",
       "      <td>15.625589</td>\n",
       "      <td>1096.500000</td>\n",
       "      <td>4783.250000</td>\n",
       "      <td>5966.000000</td>\n",
       "    </tr>\n",
       "    <tr>\n",
       "      <th>max</th>\n",
       "      <td>4.000000</td>\n",
       "      <td>1.000000</td>\n",
       "      <td>12.000000</td>\n",
       "      <td>1.000000</td>\n",
       "      <td>6.000000</td>\n",
       "      <td>1.000000</td>\n",
       "      <td>3.000000</td>\n",
       "      <td>35.328347</td>\n",
       "      <td>42.044800</td>\n",
       "      <td>97.250000</td>\n",
       "      <td>34.000021</td>\n",
       "      <td>3410.000000</td>\n",
       "      <td>6946.000000</td>\n",
       "      <td>8714.000000</td>\n",
       "    </tr>\n",
       "  </tbody>\n",
       "</table>\n",
       "</div>"
      ],
      "text/plain": [
       "           season          yr        mnth     holiday     weekday  workingday  \\\n",
       "count  730.000000  730.000000  730.000000  730.000000  730.000000  730.000000   \n",
       "mean     2.498630    0.500000    6.526027    0.028767    2.995890    0.690411   \n",
       "std      1.110184    0.500343    3.450215    0.167266    2.000339    0.462641   \n",
       "min      1.000000    0.000000    1.000000    0.000000    0.000000    0.000000   \n",
       "25%      2.000000    0.000000    4.000000    0.000000    1.000000    0.000000   \n",
       "50%      3.000000    0.500000    7.000000    0.000000    3.000000    1.000000   \n",
       "75%      3.000000    1.000000   10.000000    0.000000    5.000000    1.000000   \n",
       "max      4.000000    1.000000   12.000000    1.000000    6.000000    1.000000   \n",
       "\n",
       "       weathersit        temp       atemp         hum   windspeed  \\\n",
       "count  730.000000  730.000000  730.000000  730.000000  730.000000   \n",
       "mean     1.394521   20.319259   23.726322   62.765175   12.763620   \n",
       "std      0.544807    7.506729    8.150308   14.237589    5.195841   \n",
       "min      1.000000    2.424346    3.953480    0.000000    1.500244   \n",
       "25%      1.000000   13.811885   16.889713   52.000000    9.041650   \n",
       "50%      1.000000   20.465826   24.368225   62.625000   12.125325   \n",
       "75%      2.000000   26.880615   30.445775   72.989575   15.625589   \n",
       "max      3.000000   35.328347   42.044800   97.250000   34.000021   \n",
       "\n",
       "            casual   registered          cnt  \n",
       "count   730.000000   730.000000   730.000000  \n",
       "mean    849.249315  3658.757534  4508.006849  \n",
       "std     686.479875  1559.758728  1936.011647  \n",
       "min       2.000000    20.000000    22.000000  \n",
       "25%     316.250000  2502.250000  3169.750000  \n",
       "50%     717.000000  3664.500000  4548.500000  \n",
       "75%    1096.500000  4783.250000  5966.000000  \n",
       "max    3410.000000  6946.000000  8714.000000  "
      ]
     },
     "execution_count": 7,
     "metadata": {},
     "output_type": "execute_result"
    }
   ],
   "source": [
    "bikes.describe()"
   ]
  },
  {
   "cell_type": "markdown",
   "metadata": {},
   "source": [
    "- Values in all the columns seems to be valid.\n",
    "- Some columns seems to be categorical in nature but, are present in integer or float type.\n",
    "- We wil take care of such columns in the upcoming steps."
   ]
  },
  {
   "cell_type": "markdown",
   "metadata": {},
   "source": [
    "### 1.2 Data Cleaning"
   ]
  },
  {
   "cell_type": "code",
   "execution_count": 8,
   "metadata": {},
   "outputs": [
    {
     "data": {
      "text/plain": [
       "Index(['dteday', 'season', 'yr', 'mnth', 'holiday', 'weekday', 'workingday',\n",
       "       'weathersit', 'temp', 'atemp', 'hum', 'windspeed', 'casual',\n",
       "       'registered', 'cnt'],\n",
       "      dtype='object')"
      ]
     },
     "execution_count": 8,
     "metadata": {},
     "output_type": "execute_result"
    }
   ],
   "source": [
    "bikes.columns"
   ]
  },
  {
   "cell_type": "code",
   "execution_count": 9,
   "metadata": {},
   "outputs": [
    {
     "data": {
      "text/html": [
       "<div>\n",
       "<style scoped>\n",
       "    .dataframe tbody tr th:only-of-type {\n",
       "        vertical-align: middle;\n",
       "    }\n",
       "\n",
       "    .dataframe tbody tr th {\n",
       "        vertical-align: top;\n",
       "    }\n",
       "\n",
       "    .dataframe thead th {\n",
       "        text-align: right;\n",
       "    }\n",
       "</style>\n",
       "<table border=\"1\" class=\"dataframe\">\n",
       "  <thead>\n",
       "    <tr style=\"text-align: right;\">\n",
       "      <th></th>\n",
       "      <th>temp</th>\n",
       "      <th>atemp</th>\n",
       "    </tr>\n",
       "  </thead>\n",
       "  <tbody>\n",
       "    <tr>\n",
       "      <th>temp</th>\n",
       "      <td>1.000000</td>\n",
       "      <td>0.991696</td>\n",
       "    </tr>\n",
       "    <tr>\n",
       "      <th>atemp</th>\n",
       "      <td>0.991696</td>\n",
       "      <td>1.000000</td>\n",
       "    </tr>\n",
       "  </tbody>\n",
       "</table>\n",
       "</div>"
      ],
      "text/plain": [
       "           temp     atemp\n",
       "temp   1.000000  0.991696\n",
       "atemp  0.991696  1.000000"
      ]
     },
     "execution_count": 9,
     "metadata": {},
     "output_type": "execute_result"
    }
   ],
   "source": [
    "# Finding correlation between 'temp' and 'atemp'.\n",
    "temp_cols = ['temp', 'atemp']\n",
    "pd.DataFrame(np.corrcoef(bikes['temp'], bikes['atemp']), index=temp_cols, columns=temp_cols)"
   ]
  },
  {
   "cell_type": "markdown",
   "metadata": {},
   "source": [
    "- We will drop the 'dteday' column as we already have 'mnth' and 'yr' columns.\n",
    "- We will drop 'atemp' column as 'temp' and 'atemp' are very highly collinear. \n",
    "- We will also drop 'casual' and 'registered' columns as we have 'cnt' column which is sum of 'casual' and 'registered' columns. Also, our main aim is to predict the total bike rentals irrespective of 'casual' and 'registered'.\n",
    "- We will create a new dataframe 'bike_rental' so that, original dataframe can be used for any further reference."
   ]
  },
  {
   "cell_type": "code",
   "execution_count": 10,
   "metadata": {},
   "outputs": [],
   "source": [
    "# Creating new dataframe by dropping 'dteday', 'atemp', 'casual' and 'registered' columns.\n",
    "bike_rental = bikes[['season', 'yr', 'mnth', 'holiday', 'weekday', 'workingday',\n",
    "       'weathersit', 'temp', 'hum', 'windspeed', 'cnt']]"
   ]
  },
  {
   "cell_type": "code",
   "execution_count": 11,
   "metadata": {},
   "outputs": [
    {
     "data": {
      "text/html": [
       "<div>\n",
       "<style scoped>\n",
       "    .dataframe tbody tr th:only-of-type {\n",
       "        vertical-align: middle;\n",
       "    }\n",
       "\n",
       "    .dataframe tbody tr th {\n",
       "        vertical-align: top;\n",
       "    }\n",
       "\n",
       "    .dataframe thead th {\n",
       "        text-align: right;\n",
       "    }\n",
       "</style>\n",
       "<table border=\"1\" class=\"dataframe\">\n",
       "  <thead>\n",
       "    <tr style=\"text-align: right;\">\n",
       "      <th></th>\n",
       "      <th>season</th>\n",
       "      <th>yr</th>\n",
       "      <th>mnth</th>\n",
       "      <th>holiday</th>\n",
       "      <th>weekday</th>\n",
       "      <th>workingday</th>\n",
       "      <th>weathersit</th>\n",
       "      <th>temp</th>\n",
       "      <th>hum</th>\n",
       "      <th>windspeed</th>\n",
       "      <th>cnt</th>\n",
       "    </tr>\n",
       "    <tr>\n",
       "      <th>instant</th>\n",
       "      <th></th>\n",
       "      <th></th>\n",
       "      <th></th>\n",
       "      <th></th>\n",
       "      <th></th>\n",
       "      <th></th>\n",
       "      <th></th>\n",
       "      <th></th>\n",
       "      <th></th>\n",
       "      <th></th>\n",
       "      <th></th>\n",
       "    </tr>\n",
       "  </thead>\n",
       "  <tbody>\n",
       "    <tr>\n",
       "      <th>1</th>\n",
       "      <td>1</td>\n",
       "      <td>0</td>\n",
       "      <td>1</td>\n",
       "      <td>0</td>\n",
       "      <td>1</td>\n",
       "      <td>1</td>\n",
       "      <td>2</td>\n",
       "      <td>14.110847</td>\n",
       "      <td>80.5833</td>\n",
       "      <td>10.749882</td>\n",
       "      <td>985</td>\n",
       "    </tr>\n",
       "    <tr>\n",
       "      <th>2</th>\n",
       "      <td>1</td>\n",
       "      <td>0</td>\n",
       "      <td>1</td>\n",
       "      <td>0</td>\n",
       "      <td>2</td>\n",
       "      <td>1</td>\n",
       "      <td>2</td>\n",
       "      <td>14.902598</td>\n",
       "      <td>69.6087</td>\n",
       "      <td>16.652113</td>\n",
       "      <td>801</td>\n",
       "    </tr>\n",
       "    <tr>\n",
       "      <th>3</th>\n",
       "      <td>1</td>\n",
       "      <td>0</td>\n",
       "      <td>1</td>\n",
       "      <td>0</td>\n",
       "      <td>3</td>\n",
       "      <td>1</td>\n",
       "      <td>1</td>\n",
       "      <td>8.050924</td>\n",
       "      <td>43.7273</td>\n",
       "      <td>16.636703</td>\n",
       "      <td>1349</td>\n",
       "    </tr>\n",
       "    <tr>\n",
       "      <th>4</th>\n",
       "      <td>1</td>\n",
       "      <td>0</td>\n",
       "      <td>1</td>\n",
       "      <td>0</td>\n",
       "      <td>4</td>\n",
       "      <td>1</td>\n",
       "      <td>1</td>\n",
       "      <td>8.200000</td>\n",
       "      <td>59.0435</td>\n",
       "      <td>10.739832</td>\n",
       "      <td>1562</td>\n",
       "    </tr>\n",
       "    <tr>\n",
       "      <th>5</th>\n",
       "      <td>1</td>\n",
       "      <td>0</td>\n",
       "      <td>1</td>\n",
       "      <td>0</td>\n",
       "      <td>5</td>\n",
       "      <td>1</td>\n",
       "      <td>1</td>\n",
       "      <td>9.305237</td>\n",
       "      <td>43.6957</td>\n",
       "      <td>12.522300</td>\n",
       "      <td>1600</td>\n",
       "    </tr>\n",
       "  </tbody>\n",
       "</table>\n",
       "</div>"
      ],
      "text/plain": [
       "         season  yr  mnth  holiday  weekday  workingday  weathersit  \\\n",
       "instant                                                               \n",
       "1             1   0     1        0        1           1           2   \n",
       "2             1   0     1        0        2           1           2   \n",
       "3             1   0     1        0        3           1           1   \n",
       "4             1   0     1        0        4           1           1   \n",
       "5             1   0     1        0        5           1           1   \n",
       "\n",
       "              temp      hum  windspeed   cnt  \n",
       "instant                                       \n",
       "1        14.110847  80.5833  10.749882   985  \n",
       "2        14.902598  69.6087  16.652113   801  \n",
       "3         8.050924  43.7273  16.636703  1349  \n",
       "4         8.200000  59.0435  10.739832  1562  \n",
       "5         9.305237  43.6957  12.522300  1600  "
      ]
     },
     "execution_count": 11,
     "metadata": {},
     "output_type": "execute_result"
    }
   ],
   "source": [
    "# Checking the head of new dataframe\n",
    "bike_rental.head()"
   ]
  },
  {
   "cell_type": "code",
   "execution_count": 12,
   "metadata": {},
   "outputs": [
    {
     "data": {
      "text/plain": [
       "(730, 11)"
      ]
     },
     "execution_count": 12,
     "metadata": {},
     "output_type": "execute_result"
    }
   ],
   "source": [
    "# Checking the shape\n",
    "bike_rental.shape"
   ]
  },
  {
   "cell_type": "markdown",
   "metadata": {},
   "source": [
    "### 1.3 Handling Categorical variables"
   ]
  },
  {
   "cell_type": "markdown",
   "metadata": {},
   "source": [
    "- We have identified four categorical variables 'season', 'mnth', 'weekday' and 'weathersit' which needs the dummy variables to be created.\n",
    "- Values are assigned to the categorical variables as explained in the Data Dictionary.\n",
    "- Other categorical variables like 'yr', 'holiday' and 'workingday' are already in correct form."
   ]
  },
  {
   "cell_type": "code",
   "execution_count": 13,
   "metadata": {},
   "outputs": [],
   "source": [
    "#Assigning values to 'season' column as per the data dictionary.\n",
    "\n",
    "bike_rental.loc[(bike_rental['season']== 1), 'season'] = 'spring'    # 1 --> spring\n",
    "\n",
    "bike_rental.loc[(bike_rental['season']== 2), 'season'] = 'summer'    # 2 --> summer\n",
    "\n",
    "bike_rental.loc[(bike_rental['season']== 3), 'season'] = 'fall'      # 3 --> fall\n",
    "\n",
    "bike_rental.loc[(bike_rental['season']== 4), 'season'] = 'winter'    # 4 --> winter"
   ]
  },
  {
   "cell_type": "code",
   "execution_count": 14,
   "metadata": {},
   "outputs": [
    {
     "data": {
      "text/plain": [
       "fall      188\n",
       "summer    184\n",
       "spring    180\n",
       "winter    178\n",
       "Name: season, dtype: int64"
      ]
     },
     "execution_count": 14,
     "metadata": {},
     "output_type": "execute_result"
    }
   ],
   "source": [
    "# Checking the 'season' column\n",
    "bike_rental['season'].astype('category').value_counts()"
   ]
  },
  {
   "cell_type": "code",
   "execution_count": 15,
   "metadata": {},
   "outputs": [],
   "source": [
    "#Assigning values to 'mnth' column.\n",
    "def month_map(x):\n",
    "    return x.map({1:'January', 2:'February', 3:'March', 4:'April', 5:'May', 6:'June', 7:'July', 8:'August', 9:'September', 10:'October', 11:'November', 12:'December'})\n",
    "\n",
    "bike_rental[['mnth']] = bike_rental[['mnth']].apply(month_map)"
   ]
  },
  {
   "cell_type": "code",
   "execution_count": 16,
   "metadata": {},
   "outputs": [
    {
     "data": {
      "text/plain": [
       "October      62\n",
       "May          62\n",
       "March        62\n",
       "July         62\n",
       "January      62\n",
       "December     62\n",
       "August       62\n",
       "September    60\n",
       "November     60\n",
       "June         60\n",
       "April        60\n",
       "February     56\n",
       "Name: mnth, dtype: int64"
      ]
     },
     "execution_count": 16,
     "metadata": {},
     "output_type": "execute_result"
    }
   ],
   "source": [
    "# Checking the 'mnth' column\n",
    "bike_rental['mnth'].astype('category').value_counts()"
   ]
  },
  {
   "cell_type": "code",
   "execution_count": 17,
   "metadata": {},
   "outputs": [],
   "source": [
    "#Assigning values to 'weekday' column.\n",
    "def weekday_map(x):\n",
    "    return x.map({0:'Sun', 1:'Mon', 2:'Tue', 3:'Wed', 4:'Thurs', 5:'Fri', 6:'Sat'})\n",
    "\n",
    "bike_rental[['weekday']] = bike_rental[['weekday']].apply(weekday_map)"
   ]
  },
  {
   "cell_type": "code",
   "execution_count": 18,
   "metadata": {},
   "outputs": [
    {
     "data": {
      "text/plain": [
       "Tue      105\n",
       "Mon      105\n",
       "Wed      104\n",
       "Thurs    104\n",
       "Sun      104\n",
       "Sat      104\n",
       "Fri      104\n",
       "Name: weekday, dtype: int64"
      ]
     },
     "execution_count": 18,
     "metadata": {},
     "output_type": "execute_result"
    }
   ],
   "source": [
    "# Checking the 'weekday' column\n",
    "bike_rental['weekday'].astype('category').value_counts()"
   ]
  },
  {
   "cell_type": "code",
   "execution_count": 19,
   "metadata": {},
   "outputs": [],
   "source": [
    "#Assigning values to 'weathersit' column as per the data dictionary.\n",
    "\n",
    "# 1 --> Clear, Few clouds, Partly cloudy, Partly cloudy\n",
    "bike_rental.loc[(bike_rental['weathersit']== 1), 'weathersit'] = 'Clear'\n",
    "\n",
    "# 2 --> Mist + Cloudy, Mist + Broken clouds, Mist + Few clouds, Mist\n",
    "bike_rental.loc[(bike_rental['weathersit']== 2), 'weathersit'] = 'Mist'    \n",
    "\n",
    "# 3 --> Light Snow, Light Rain + Thunderstorm + Scattered clouds, Light Rain + Scattered clouds\n",
    "bike_rental.loc[(bike_rental['weathersit']== 3), 'weathersit'] = 'Light Snow'\n",
    "\n",
    "# 4 --> Heavy Rain + Ice Pallets + Thunderstorm + Mist, Snow + Fog\n",
    "bike_rental.loc[(bike_rental['weathersit']== 4), 'weathersit'] = 'Heavy Rain'"
   ]
  },
  {
   "cell_type": "code",
   "execution_count": 20,
   "metadata": {},
   "outputs": [
    {
     "data": {
      "text/plain": [
       "Clear         463\n",
       "Mist          246\n",
       "Light Snow     21\n",
       "Name: weathersit, dtype: int64"
      ]
     },
     "execution_count": 20,
     "metadata": {},
     "output_type": "execute_result"
    }
   ],
   "source": [
    "# Checking the 'weathersit' column\n",
    "bike_rental['weathersit'].astype('category').value_counts()"
   ]
  },
  {
   "cell_type": "code",
   "execution_count": 21,
   "metadata": {},
   "outputs": [
    {
     "data": {
      "text/plain": [
       "1    365\n",
       "0    365\n",
       "Name: yr, dtype: int64"
      ]
     },
     "execution_count": 21,
     "metadata": {},
     "output_type": "execute_result"
    }
   ],
   "source": [
    "# Checking the 'yr' column\n",
    "bike_rental['yr'].astype('category').value_counts()    # 0 --> 2018 and 1 --> 2019 as per data dictionary"
   ]
  },
  {
   "cell_type": "code",
   "execution_count": 22,
   "metadata": {},
   "outputs": [
    {
     "data": {
      "text/plain": [
       "1    504\n",
       "0    226\n",
       "Name: workingday, dtype: int64"
      ]
     },
     "execution_count": 22,
     "metadata": {},
     "output_type": "execute_result"
    }
   ],
   "source": [
    "# Checking the 'workingday' column\n",
    "#if a day is neither weekend nor a holiday it takes the value 1, otherwise 0 as per data dictionary.\n",
    "bike_rental['workingday'].astype('category').value_counts()"
   ]
  },
  {
   "cell_type": "code",
   "execution_count": 23,
   "metadata": {},
   "outputs": [
    {
     "data": {
      "text/plain": [
       "0    709\n",
       "1     21\n",
       "Name: holiday, dtype: int64"
      ]
     },
     "execution_count": 23,
     "metadata": {},
     "output_type": "execute_result"
    }
   ],
   "source": [
    "# Checking the 'holiday' column\n",
    "# 0 --> not a holiday and 1 --> holiday as per data dictionary.\n",
    "bike_rental['holiday'].astype('category').value_counts()"
   ]
  },
  {
   "cell_type": "markdown",
   "metadata": {},
   "source": [
    "## Step 2: Visualising the Data"
   ]
  },
  {
   "cell_type": "code",
   "execution_count": 24,
   "metadata": {},
   "outputs": [
    {
     "data": {
      "text/plain": [
       "Index(['season', 'yr', 'mnth', 'holiday', 'weekday', 'workingday',\n",
       "       'weathersit', 'temp', 'hum', 'windspeed', 'cnt'],\n",
       "      dtype='object')"
      ]
     },
     "execution_count": 24,
     "metadata": {},
     "output_type": "execute_result"
    }
   ],
   "source": [
    "bike_rental.columns"
   ]
  },
  {
   "cell_type": "code",
   "execution_count": 26,
   "metadata": {},
   "outputs": [],
   "source": [
    "# Creating new dataframe containg only numerical variables.\n",
    "NumVras = bike_rental[['temp', 'hum', 'windspeed', 'cnt']]"
   ]
  },
  {
   "cell_type": "code",
   "execution_count": 27,
   "metadata": {},
   "outputs": [
    {
     "data": {
      "text/html": [
       "<div>\n",
       "<style scoped>\n",
       "    .dataframe tbody tr th:only-of-type {\n",
       "        vertical-align: middle;\n",
       "    }\n",
       "\n",
       "    .dataframe tbody tr th {\n",
       "        vertical-align: top;\n",
       "    }\n",
       "\n",
       "    .dataframe thead th {\n",
       "        text-align: right;\n",
       "    }\n",
       "</style>\n",
       "<table border=\"1\" class=\"dataframe\">\n",
       "  <thead>\n",
       "    <tr style=\"text-align: right;\">\n",
       "      <th></th>\n",
       "      <th>temp</th>\n",
       "      <th>hum</th>\n",
       "      <th>windspeed</th>\n",
       "      <th>cnt</th>\n",
       "    </tr>\n",
       "    <tr>\n",
       "      <th>instant</th>\n",
       "      <th></th>\n",
       "      <th></th>\n",
       "      <th></th>\n",
       "      <th></th>\n",
       "    </tr>\n",
       "  </thead>\n",
       "  <tbody>\n",
       "    <tr>\n",
       "      <th>1</th>\n",
       "      <td>14.110847</td>\n",
       "      <td>80.5833</td>\n",
       "      <td>10.749882</td>\n",
       "      <td>985</td>\n",
       "    </tr>\n",
       "    <tr>\n",
       "      <th>2</th>\n",
       "      <td>14.902598</td>\n",
       "      <td>69.6087</td>\n",
       "      <td>16.652113</td>\n",
       "      <td>801</td>\n",
       "    </tr>\n",
       "    <tr>\n",
       "      <th>3</th>\n",
       "      <td>8.050924</td>\n",
       "      <td>43.7273</td>\n",
       "      <td>16.636703</td>\n",
       "      <td>1349</td>\n",
       "    </tr>\n",
       "    <tr>\n",
       "      <th>4</th>\n",
       "      <td>8.200000</td>\n",
       "      <td>59.0435</td>\n",
       "      <td>10.739832</td>\n",
       "      <td>1562</td>\n",
       "    </tr>\n",
       "    <tr>\n",
       "      <th>5</th>\n",
       "      <td>9.305237</td>\n",
       "      <td>43.6957</td>\n",
       "      <td>12.522300</td>\n",
       "      <td>1600</td>\n",
       "    </tr>\n",
       "  </tbody>\n",
       "</table>\n",
       "</div>"
      ],
      "text/plain": [
       "              temp      hum  windspeed   cnt\n",
       "instant                                     \n",
       "1        14.110847  80.5833  10.749882   985\n",
       "2        14.902598  69.6087  16.652113   801\n",
       "3         8.050924  43.7273  16.636703  1349\n",
       "4         8.200000  59.0435  10.739832  1562\n",
       "5         9.305237  43.6957  12.522300  1600"
      ]
     },
     "execution_count": 27,
     "metadata": {},
     "output_type": "execute_result"
    }
   ],
   "source": [
    "# Checking head\n",
    "NumVras.head()"
   ]
  },
  {
   "cell_type": "markdown",
   "metadata": {},
   "source": [
    "### 2.1 Visualising Numeric Variables"
   ]
  },
  {
   "cell_type": "code",
   "execution_count": 31,
   "metadata": {},
   "outputs": [
    {
     "data": {
      "text/plain": [
       "<Figure size 1440x1296 with 0 Axes>"
      ]
     },
     "metadata": {},
     "output_type": "display_data"
    },
    {
     "data": {
      "image/png": "[encoded data removed]",
      "text/plain": [
       "<Figure size 720x720 with 20 Axes>"
      ]
     },
     "metadata": {
      "needs_background": "light"
     },
     "output_type": "display_data"
    }
   ],
   "source": [
    "# Plotting pair plot for numerical variables\n",
    "plt.figure(figsize=(20,18))\n",
    "sns.pairplot(NumVras)\n",
    "plt.show()"
   ]
  },
  {
   "cell_type": "markdown",
   "metadata": {},
   "source": [
    "We can see that:\n",
    "- There is collinearity between 'temp' and 'cnt'.\n",
    "- There is some collinearity between 'hum' and 'windspeed'.\n",
    "- There is also some collinearity between 'temp' and 'hum' and also between 'temp' and 'windspeed'."
   ]
  },
  {
   "cell_type": "markdown",
   "metadata": {},
   "source": [
    "### 2.2 Visualising Categorical Variables"
   ]
  },
  {
   "cell_type": "code",
   "execution_count": 32,
   "metadata": {},
   "outputs": [
    {
     "data": {
      "image/png": "[encoded data removed]",
      "text/plain": [
       "<Figure size 1440x864 with 7 Axes>"
      ]
     },
     "metadata": {
      "needs_background": "light"
     },
     "output_type": "display_data"
    }
   ],
   "source": [
    "# Plotting boxplots for categorical variables.\n",
    "plt.figure(figsize=(20,12))\n",
    "plt.subplot(3,3,1)\n",
    "sns.boxplot(x='season', y='cnt', data=bike_rental)\n",
    "plt.subplot(3,3,2)\n",
    "sns.boxplot(x='weathersit', y='cnt', data=bike_rental)\n",
    "plt.subplot(3,3,3)\n",
    "sns.boxplot(x='weekday', y='cnt', data=bike_rental)\n",
    "plt.subplot(3,3,4)\n",
    "sns.boxplot(x='mnth', y='cnt', data=bike_rental)\n",
    "plt.xticks(rotation=45)\n",
    "plt.subplot(3,3,5)\n",
    "sns.boxplot(x='holiday', y='cnt', data=bike_rental)\n",
    "plt.subplot(3,3,6)\n",
    "sns.boxplot(x='workingday', y='cnt', data=bike_rental)\n",
    "plt.subplot(3,3,7)\n",
    "sns.boxplot(x='yr', y='cnt', data=bike_rental)\n",
    "plt.show()"
   ]
  },
  {
   "cell_type": "markdown",
   "metadata": {},
   "source": [
    "We can see that:\n",
    "- Season: Most number of bike bookings are happening in FALL season and least number of bike bookings in SPRING season. SUMMER and WINTER seasons have decent number of bookings.\n",
    "- Weathersit: Highest number of bike bookings are seen in CLEAR weather and low number of bookings in LIGHT SNOW weather conditions.\n",
    "- Weekday: All the weekdays are performing almost equally well with not much difference in number of bookings.\n",
    "- Mnth: JUNE, JULY, AUGUST and SEPTEMBER have high number of bookings while JANUARY and FEBRUARY have low bookings.\n",
    "- Holiday: Non-holiday days seems to be performing well than holidays.\n",
    "- Workingday: Both working days and non-working days are performing equally well.\n",
    "- Year: Number of bookings have increased significantly in 2019 compared to 2018."
   ]
  },
  {
   "cell_type": "markdown",
   "metadata": {},
   "source": [
    "### 2.3 Heatmap for Numerical variables"
   ]
  },
  {
   "cell_type": "code",
   "execution_count": 33,
   "metadata": {},
   "outputs": [
    {
     "data": {
      "text/html": [
       "<div>\n",
       "<style scoped>\n",
       "    .dataframe tbody tr th:only-of-type {\n",
       "        vertical-align: middle;\n",
       "    }\n",
       "\n",
       "    .dataframe tbody tr th {\n",
       "        vertical-align: top;\n",
       "    }\n",
       "\n",
       "    .dataframe thead th {\n",
       "        text-align: right;\n",
       "    }\n",
       "</style>\n",
       "<table border=\"1\" class=\"dataframe\">\n",
       "  <thead>\n",
       "    <tr style=\"text-align: right;\">\n",
       "      <th></th>\n",
       "      <th>temp</th>\n",
       "      <th>hum</th>\n",
       "      <th>windspeed</th>\n",
       "      <th>cnt</th>\n",
       "    </tr>\n",
       "  </thead>\n",
       "  <tbody>\n",
       "    <tr>\n",
       "      <th>temp</th>\n",
       "      <td>1.000000</td>\n",
       "      <td>0.128565</td>\n",
       "      <td>-0.158186</td>\n",
       "      <td>0.627044</td>\n",
       "    </tr>\n",
       "    <tr>\n",
       "      <th>hum</th>\n",
       "      <td>0.128565</td>\n",
       "      <td>1.000000</td>\n",
       "      <td>-0.248506</td>\n",
       "      <td>-0.098543</td>\n",
       "    </tr>\n",
       "    <tr>\n",
       "      <th>windspeed</th>\n",
       "      <td>-0.158186</td>\n",
       "      <td>-0.248506</td>\n",
       "      <td>1.000000</td>\n",
       "      <td>-0.235132</td>\n",
       "    </tr>\n",
       "    <tr>\n",
       "      <th>cnt</th>\n",
       "      <td>0.627044</td>\n",
       "      <td>-0.098543</td>\n",
       "      <td>-0.235132</td>\n",
       "      <td>1.000000</td>\n",
       "    </tr>\n",
       "  </tbody>\n",
       "</table>\n",
       "</div>"
      ],
      "text/plain": [
       "               temp       hum  windspeed       cnt\n",
       "temp       1.000000  0.128565  -0.158186  0.627044\n",
       "hum        0.128565  1.000000  -0.248506 -0.098543\n",
       "windspeed -0.158186 -0.248506   1.000000 -0.235132\n",
       "cnt        0.627044 -0.098543  -0.235132  1.000000"
      ]
     },
     "execution_count": 33,
     "metadata": {},
     "output_type": "execute_result"
    }
   ],
   "source": [
    "Numcorr = NumVras.corr()\n",
    "Numcorr"
   ]
  },
  {
   "cell_type": "code",
   "execution_count": 34,
   "metadata": {},
   "outputs": [
    {
     "data": {
      "image/png": "[encoded data removed]",
      "text/plain": [
       "<Figure size 1152x720 with 2 Axes>"
      ]
     },
     "metadata": {
      "needs_background": "light"
     },
     "output_type": "display_data"
    }
   ],
   "source": [
    "# checking the correlation coefficients to see which variables are highly correlated\n",
    "plt.figure(figsize = (16, 10))\n",
    "sns.heatmap(Numcorr, annot = True, cmap=\"YlGnBu\")\n",
    "plt.show()"
   ]
  },
  {
   "cell_type": "markdown",
   "metadata": {},
   "source": [
    "## Step 3: Data Preparation"
   ]
  },
  {
   "cell_type": "code",
   "execution_count": 35,
   "metadata": {},
   "outputs": [
    {
     "data": {
      "text/html": [
       "<div>\n",
       "<style scoped>\n",
       "    .dataframe tbody tr th:only-of-type {\n",
       "        vertical-align: middle;\n",
       "    }\n",
       "\n",
       "    .dataframe tbody tr th {\n",
       "        vertical-align: top;\n",
       "    }\n",
       "\n",
       "    .dataframe thead th {\n",
       "        text-align: right;\n",
       "    }\n",
       "</style>\n",
       "<table border=\"1\" class=\"dataframe\">\n",
       "  <thead>\n",
       "    <tr style=\"text-align: right;\">\n",
       "      <th></th>\n",
       "      <th>season</th>\n",
       "      <th>mnth</th>\n",
       "      <th>weathersit</th>\n",
       "      <th>weekday</th>\n",
       "    </tr>\n",
       "    <tr>\n",
       "      <th>instant</th>\n",
       "      <th></th>\n",
       "      <th></th>\n",
       "      <th></th>\n",
       "      <th></th>\n",
       "    </tr>\n",
       "  </thead>\n",
       "  <tbody>\n",
       "    <tr>\n",
       "      <th>1</th>\n",
       "      <td>spring</td>\n",
       "      <td>January</td>\n",
       "      <td>Mist</td>\n",
       "      <td>Mon</td>\n",
       "    </tr>\n",
       "    <tr>\n",
       "      <th>2</th>\n",
       "      <td>spring</td>\n",
       "      <td>January</td>\n",
       "      <td>Mist</td>\n",
       "      <td>Tue</td>\n",
       "    </tr>\n",
       "    <tr>\n",
       "      <th>3</th>\n",
       "      <td>spring</td>\n",
       "      <td>January</td>\n",
       "      <td>Clear</td>\n",
       "      <td>Wed</td>\n",
       "    </tr>\n",
       "    <tr>\n",
       "      <th>4</th>\n",
       "      <td>spring</td>\n",
       "      <td>January</td>\n",
       "      <td>Clear</td>\n",
       "      <td>Thurs</td>\n",
       "    </tr>\n",
       "    <tr>\n",
       "      <th>5</th>\n",
       "      <td>spring</td>\n",
       "      <td>January</td>\n",
       "      <td>Clear</td>\n",
       "      <td>Fri</td>\n",
       "    </tr>\n",
       "  </tbody>\n",
       "</table>\n",
       "</div>"
      ],
      "text/plain": [
       "         season     mnth weathersit weekday\n",
       "instant                                    \n",
       "1        spring  January       Mist     Mon\n",
       "2        spring  January       Mist     Tue\n",
       "3        spring  January      Clear     Wed\n",
       "4        spring  January      Clear   Thurs\n",
       "5        spring  January      Clear     Fri"
      ]
     },
     "execution_count": 35,
     "metadata": {},
     "output_type": "execute_result"
    }
   ],
   "source": [
    "# Creating a dataframe containing variables for which dummy variables needs to be created.\n",
    "CategoricalVars = bike_rental[['season', 'mnth', 'weathersit', 'weekday']]\n",
    "CategoricalVars.head()"
   ]
  },
  {
   "cell_type": "markdown",
   "metadata": {},
   "source": [
    "### 3.1 Creating Dummy variables"
   ]
  },
  {
   "cell_type": "code",
   "execution_count": 36,
   "metadata": {},
   "outputs": [
    {
     "data": {
      "text/plain": [
       "(730, 22)"
      ]
     },
     "execution_count": 36,
     "metadata": {},
     "output_type": "execute_result"
    }
   ],
   "source": [
    "# Creating the dummies and dropping the first dummy variable for each variable.\n",
    "bike_dummies = pd.get_dummies(CategoricalVars, drop_first=True)\n",
    "bike_dummies.shape"
   ]
  },
  {
   "cell_type": "code",
   "execution_count": 37,
   "metadata": {},
   "outputs": [
    {
     "data": {
      "text/plain": [
       "(730, 7)"
      ]
     },
     "execution_count": 37,
     "metadata": {},
     "output_type": "execute_result"
    }
   ],
   "source": [
    "# Dropping the original categorical variables from the dataframe\n",
    "bike_rental = bike_rental.drop(list(CategoricalVars.columns), axis=1)\n",
    "bike_rental.shape"
   ]
  },
  {
   "cell_type": "code",
   "execution_count": 38,
   "metadata": {},
   "outputs": [
    {
     "data": {
      "text/plain": [
       "(730, 29)"
      ]
     },
     "execution_count": 38,
     "metadata": {},
     "output_type": "execute_result"
    }
   ],
   "source": [
    "# Concatting the 'bikes101' and 'bike_dummies' dataframes and storing it in a new dataframe.\n",
    "bike_rental_new = pd.concat([bike_rental, bike_dummies],axis=1)\n",
    "bike_rental_new.shape"
   ]
  },
  {
   "cell_type": "code",
   "execution_count": 39,
   "metadata": {},
   "outputs": [
    {
     "data": {
      "text/html": [
       "<div>\n",
       "<style scoped>\n",
       "    .dataframe tbody tr th:only-of-type {\n",
       "        vertical-align: middle;\n",
       "    }\n",
       "\n",
       "    .dataframe tbody tr th {\n",
       "        vertical-align: top;\n",
       "    }\n",
       "\n",
       "    .dataframe thead th {\n",
       "        text-align: right;\n",
       "    }\n",
       "</style>\n",
       "<table border=\"1\" class=\"dataframe\">\n",
       "  <thead>\n",
       "    <tr style=\"text-align: right;\">\n",
       "      <th></th>\n",
       "      <th>yr</th>\n",
       "      <th>holiday</th>\n",
       "      <th>workingday</th>\n",
       "      <th>temp</th>\n",
       "      <th>hum</th>\n",
       "      <th>windspeed</th>\n",
       "      <th>cnt</th>\n",
       "      <th>season_spring</th>\n",
       "      <th>season_summer</th>\n",
       "      <th>season_winter</th>\n",
       "      <th>...</th>\n",
       "      <th>mnth_October</th>\n",
       "      <th>mnth_September</th>\n",
       "      <th>weathersit_Light Snow</th>\n",
       "      <th>weathersit_Mist</th>\n",
       "      <th>weekday_Mon</th>\n",
       "      <th>weekday_Sat</th>\n",
       "      <th>weekday_Sun</th>\n",
       "      <th>weekday_Thurs</th>\n",
       "      <th>weekday_Tue</th>\n",
       "      <th>weekday_Wed</th>\n",
       "    </tr>\n",
       "    <tr>\n",
       "      <th>instant</th>\n",
       "      <th></th>\n",
       "      <th></th>\n",
       "      <th></th>\n",
       "      <th></th>\n",
       "      <th></th>\n",
       "      <th></th>\n",
       "      <th></th>\n",
       "      <th></th>\n",
       "      <th></th>\n",
       "      <th></th>\n",
       "      <th></th>\n",
       "      <th></th>\n",
       "      <th></th>\n",
       "      <th></th>\n",
       "      <th></th>\n",
       "      <th></th>\n",
       "      <th></th>\n",
       "      <th></th>\n",
       "      <th></th>\n",
       "      <th></th>\n",
       "      <th></th>\n",
       "    </tr>\n",
       "  </thead>\n",
       "  <tbody>\n",
       "    <tr>\n",
       "      <th>1</th>\n",
       "      <td>0</td>\n",
       "      <td>0</td>\n",
       "      <td>1</td>\n",
       "      <td>14.110847</td>\n",
       "      <td>80.5833</td>\n",
       "      <td>10.749882</td>\n",
       "      <td>985</td>\n",
       "      <td>1</td>\n",
       "      <td>0</td>\n",
       "      <td>0</td>\n",
       "      <td>...</td>\n",
       "      <td>0</td>\n",
       "      <td>0</td>\n",
       "      <td>0</td>\n",
       "      <td>1</td>\n",
       "      <td>1</td>\n",
       "      <td>0</td>\n",
       "      <td>0</td>\n",
       "      <td>0</td>\n",
       "      <td>0</td>\n",
       "      <td>0</td>\n",
       "    </tr>\n",
       "    <tr>\n",
       "      <th>2</th>\n",
       "      <td>0</td>\n",
       "      <td>0</td>\n",
       "      <td>1</td>\n",
       "      <td>14.902598</td>\n",
       "      <td>69.6087</td>\n",
       "      <td>16.652113</td>\n",
       "      <td>801</td>\n",
       "      <td>1</td>\n",
       "      <td>0</td>\n",
       "      <td>0</td>\n",
       "      <td>...</td>\n",
       "      <td>0</td>\n",
       "      <td>0</td>\n",
       "      <td>0</td>\n",
       "      <td>1</td>\n",
       "      <td>0</td>\n",
       "      <td>0</td>\n",
       "      <td>0</td>\n",
       "      <td>0</td>\n",
       "      <td>1</td>\n",
       "      <td>0</td>\n",
       "    </tr>\n",
       "    <tr>\n",
       "      <th>3</th>\n",
       "      <td>0</td>\n",
       "      <td>0</td>\n",
       "      <td>1</td>\n",
       "      <td>8.050924</td>\n",
       "      <td>43.7273</td>\n",
       "      <td>16.636703</td>\n",
       "      <td>1349</td>\n",
       "      <td>1</td>\n",
       "      <td>0</td>\n",
       "      <td>0</td>\n",
       "      <td>...</td>\n",
       "      <td>0</td>\n",
       "      <td>0</td>\n",
       "      <td>0</td>\n",
       "      <td>0</td>\n",
       "      <td>0</td>\n",
       "      <td>0</td>\n",
       "      <td>0</td>\n",
       "      <td>0</td>\n",
       "      <td>0</td>\n",
       "      <td>1</td>\n",
       "    </tr>\n",
       "    <tr>\n",
       "      <th>4</th>\n",
       "      <td>0</td>\n",
       "      <td>0</td>\n",
       "      <td>1</td>\n",
       "      <td>8.200000</td>\n",
       "      <td>59.0435</td>\n",
       "      <td>10.739832</td>\n",
       "      <td>1562</td>\n",
       "      <td>1</td>\n",
       "      <td>0</td>\n",
       "      <td>0</td>\n",
       "      <td>...</td>\n",
       "      <td>0</td>\n",
       "      <td>0</td>\n",
       "      <td>0</td>\n",
       "      <td>0</td>\n",
       "      <td>0</td>\n",
       "      <td>0</td>\n",
       "      <td>0</td>\n",
       "      <td>1</td>\n",
       "      <td>0</td>\n",
       "      <td>0</td>\n",
       "    </tr>\n",
       "    <tr>\n",
       "      <th>5</th>\n",
       "      <td>0</td>\n",
       "      <td>0</td>\n",
       "      <td>1</td>\n",
       "      <td>9.305237</td>\n",
       "      <td>43.6957</td>\n",
       "      <td>12.522300</td>\n",
       "      <td>1600</td>\n",
       "      <td>1</td>\n",
       "      <td>0</td>\n",
       "      <td>0</td>\n",
       "      <td>...</td>\n",
       "      <td>0</td>\n",
       "      <td>0</td>\n",
       "      <td>0</td>\n",
       "      <td>0</td>\n",
       "      <td>0</td>\n",
       "      <td>0</td>\n",
       "      <td>0</td>\n",
       "      <td>0</td>\n",
       "      <td>0</td>\n",
       "      <td>0</td>\n",
       "    </tr>\n",
       "  </tbody>\n",
       "</table>\n",
       "<p>5 rows × 29 columns</p>\n",
       "</div>"
      ],
      "text/plain": [
       "         yr  holiday  workingday       temp      hum  windspeed   cnt  \\\n",
       "instant                                                                 \n",
       "1         0        0           1  14.110847  80.5833  10.749882   985   \n",
       "2         0        0           1  14.902598  69.6087  16.652113   801   \n",
       "3         0        0           1   8.050924  43.7273  16.636703  1349   \n",
       "4         0        0           1   8.200000  59.0435  10.739832  1562   \n",
       "5         0        0           1   9.305237  43.6957  12.522300  1600   \n",
       "\n",
       "         season_spring  season_summer  season_winter  ...  mnth_October  \\\n",
       "instant                                               ...                 \n",
       "1                    1              0              0  ...             0   \n",
       "2                    1              0              0  ...             0   \n",
       "3                    1              0              0  ...             0   \n",
       "4                    1              0              0  ...             0   \n",
       "5                    1              0              0  ...             0   \n",
       "\n",
       "         mnth_September  weathersit_Light Snow  weathersit_Mist  weekday_Mon  \\\n",
       "instant                                                                        \n",
       "1                     0                      0                1            1   \n",
       "2                     0                      0                1            0   \n",
       "3                     0                      0                0            0   \n",
       "4                     0                      0                0            0   \n",
       "5                     0                      0                0            0   \n",
       "\n",
       "         weekday_Sat  weekday_Sun  weekday_Thurs  weekday_Tue  weekday_Wed  \n",
       "instant                                                                     \n",
       "1                  0            0              0            0            0  \n",
       "2                  0            0              0            1            0  \n",
       "3                  0            0              0            0            1  \n",
       "4                  0            0              1            0            0  \n",
       "5                  0            0              0            0            0  \n",
       "\n",
       "[5 rows x 29 columns]"
      ]
     },
     "execution_count": 39,
     "metadata": {},
     "output_type": "execute_result"
    }
   ],
   "source": [
    "bike_rental_new.head()"
   ]
  },
  {
   "cell_type": "markdown",
   "metadata": {},
   "source": [
    "## Step 4: Splitting the Data into Training and Testing Sets"
   ]
  },
  {
   "cell_type": "code",
   "execution_count": 40,
   "metadata": {},
   "outputs": [],
   "source": [
    "# Importing 'train_test_split' from 'sklearn' library.\n",
    "from sklearn.model_selection import train_test_split\n",
    "\n",
    "# Splitting the data into train and test dataframes.\n",
    "df_train, df_test = train_test_split(bike_rental_new, train_size = 0.7, test_size = 0.3, random_state = 100)"
   ]
  },
  {
   "cell_type": "code",
   "execution_count": 41,
   "metadata": {},
   "outputs": [
    {
     "data": {
      "text/plain": [
       "(510, 29)"
      ]
     },
     "execution_count": 41,
     "metadata": {},
     "output_type": "execute_result"
    }
   ],
   "source": [
    "# Checking the shape of train dataframe.\n",
    "df_train.shape"
   ]
  },
  {
   "cell_type": "code",
   "execution_count": 42,
   "metadata": {},
   "outputs": [
    {
     "data": {
      "text/plain": [
       "(219, 29)"
      ]
     },
     "execution_count": 42,
     "metadata": {},
     "output_type": "execute_result"
    }
   ],
   "source": [
    "# Checking the shape of test dataframe.\n",
    "df_test.shape"
   ]
  },
  {
   "cell_type": "markdown",
   "metadata": {},
   "source": [
    "### 4.1 Rescaling the Features"
   ]
  },
  {
   "cell_type": "code",
   "execution_count": 43,
   "metadata": {},
   "outputs": [],
   "source": [
    "# Importing 'MinMaxScaler' from 'sklearn' library.\n",
    "from sklearn.preprocessing import MinMaxScaler"
   ]
  },
  {
   "cell_type": "code",
   "execution_count": 44,
   "metadata": {},
   "outputs": [],
   "source": [
    "# Creating an object of 'MinMaxScaler' class.\n",
    "scaler = MinMaxScaler()"
   ]
  },
  {
   "cell_type": "code",
   "execution_count": 45,
   "metadata": {},
   "outputs": [],
   "source": [
    "# Applying 'scaler()' to all the columns except the 'yes-no'/'1-0' and 'dummy' variables.\n",
    "df_train[list(NumVras.columns)] = scaler.fit_transform(df_train[list(NumVras.columns)])"
   ]
  },
  {
   "cell_type": "code",
   "execution_count": 46,
   "metadata": {},
   "outputs": [
    {
     "data": {
      "text/html": [
       "<div>\n",
       "<style scoped>\n",
       "    .dataframe tbody tr th:only-of-type {\n",
       "        vertical-align: middle;\n",
       "    }\n",
       "\n",
       "    .dataframe tbody tr th {\n",
       "        vertical-align: top;\n",
       "    }\n",
       "\n",
       "    .dataframe thead th {\n",
       "        text-align: right;\n",
       "    }\n",
       "</style>\n",
       "<table border=\"1\" class=\"dataframe\">\n",
       "  <thead>\n",
       "    <tr style=\"text-align: right;\">\n",
       "      <th></th>\n",
       "      <th>yr</th>\n",
       "      <th>holiday</th>\n",
       "      <th>workingday</th>\n",
       "      <th>temp</th>\n",
       "      <th>hum</th>\n",
       "      <th>windspeed</th>\n",
       "      <th>cnt</th>\n",
       "      <th>season_spring</th>\n",
       "      <th>season_summer</th>\n",
       "      <th>season_winter</th>\n",
       "      <th>...</th>\n",
       "      <th>mnth_October</th>\n",
       "      <th>mnth_September</th>\n",
       "      <th>weathersit_Light Snow</th>\n",
       "      <th>weathersit_Mist</th>\n",
       "      <th>weekday_Mon</th>\n",
       "      <th>weekday_Sat</th>\n",
       "      <th>weekday_Sun</th>\n",
       "      <th>weekday_Thurs</th>\n",
       "      <th>weekday_Tue</th>\n",
       "      <th>weekday_Wed</th>\n",
       "    </tr>\n",
       "    <tr>\n",
       "      <th>instant</th>\n",
       "      <th></th>\n",
       "      <th></th>\n",
       "      <th></th>\n",
       "      <th></th>\n",
       "      <th></th>\n",
       "      <th></th>\n",
       "      <th></th>\n",
       "      <th></th>\n",
       "      <th></th>\n",
       "      <th></th>\n",
       "      <th></th>\n",
       "      <th></th>\n",
       "      <th></th>\n",
       "      <th></th>\n",
       "      <th></th>\n",
       "      <th></th>\n",
       "      <th></th>\n",
       "      <th></th>\n",
       "      <th></th>\n",
       "      <th></th>\n",
       "      <th></th>\n",
       "    </tr>\n",
       "  </thead>\n",
       "  <tbody>\n",
       "    <tr>\n",
       "      <th>654</th>\n",
       "      <td>1</td>\n",
       "      <td>0</td>\n",
       "      <td>1</td>\n",
       "      <td>0.509887</td>\n",
       "      <td>0.575354</td>\n",
       "      <td>0.300794</td>\n",
       "      <td>0.864243</td>\n",
       "      <td>0</td>\n",
       "      <td>0</td>\n",
       "      <td>1</td>\n",
       "      <td>...</td>\n",
       "      <td>1</td>\n",
       "      <td>0</td>\n",
       "      <td>0</td>\n",
       "      <td>0</td>\n",
       "      <td>0</td>\n",
       "      <td>0</td>\n",
       "      <td>0</td>\n",
       "      <td>0</td>\n",
       "      <td>0</td>\n",
       "      <td>1</td>\n",
       "    </tr>\n",
       "    <tr>\n",
       "      <th>577</th>\n",
       "      <td>1</td>\n",
       "      <td>0</td>\n",
       "      <td>1</td>\n",
       "      <td>0.815169</td>\n",
       "      <td>0.725633</td>\n",
       "      <td>0.264686</td>\n",
       "      <td>0.827658</td>\n",
       "      <td>0</td>\n",
       "      <td>0</td>\n",
       "      <td>0</td>\n",
       "      <td>...</td>\n",
       "      <td>0</td>\n",
       "      <td>0</td>\n",
       "      <td>0</td>\n",
       "      <td>0</td>\n",
       "      <td>0</td>\n",
       "      <td>0</td>\n",
       "      <td>0</td>\n",
       "      <td>0</td>\n",
       "      <td>0</td>\n",
       "      <td>1</td>\n",
       "    </tr>\n",
       "    <tr>\n",
       "      <th>427</th>\n",
       "      <td>1</td>\n",
       "      <td>0</td>\n",
       "      <td>0</td>\n",
       "      <td>0.442393</td>\n",
       "      <td>0.640189</td>\n",
       "      <td>0.255342</td>\n",
       "      <td>0.465255</td>\n",
       "      <td>1</td>\n",
       "      <td>0</td>\n",
       "      <td>0</td>\n",
       "      <td>...</td>\n",
       "      <td>0</td>\n",
       "      <td>0</td>\n",
       "      <td>0</td>\n",
       "      <td>1</td>\n",
       "      <td>0</td>\n",
       "      <td>0</td>\n",
       "      <td>1</td>\n",
       "      <td>0</td>\n",
       "      <td>0</td>\n",
       "      <td>0</td>\n",
       "    </tr>\n",
       "    <tr>\n",
       "      <th>729</th>\n",
       "      <td>1</td>\n",
       "      <td>0</td>\n",
       "      <td>1</td>\n",
       "      <td>0.245101</td>\n",
       "      <td>0.498067</td>\n",
       "      <td>0.663106</td>\n",
       "      <td>0.204096</td>\n",
       "      <td>1</td>\n",
       "      <td>0</td>\n",
       "      <td>0</td>\n",
       "      <td>...</td>\n",
       "      <td>0</td>\n",
       "      <td>0</td>\n",
       "      <td>0</td>\n",
       "      <td>0</td>\n",
       "      <td>1</td>\n",
       "      <td>0</td>\n",
       "      <td>0</td>\n",
       "      <td>0</td>\n",
       "      <td>0</td>\n",
       "      <td>0</td>\n",
       "    </tr>\n",
       "    <tr>\n",
       "      <th>483</th>\n",
       "      <td>1</td>\n",
       "      <td>0</td>\n",
       "      <td>0</td>\n",
       "      <td>0.395666</td>\n",
       "      <td>0.504508</td>\n",
       "      <td>0.188475</td>\n",
       "      <td>0.482973</td>\n",
       "      <td>0</td>\n",
       "      <td>1</td>\n",
       "      <td>0</td>\n",
       "      <td>...</td>\n",
       "      <td>0</td>\n",
       "      <td>0</td>\n",
       "      <td>0</td>\n",
       "      <td>1</td>\n",
       "      <td>0</td>\n",
       "      <td>0</td>\n",
       "      <td>1</td>\n",
       "      <td>0</td>\n",
       "      <td>0</td>\n",
       "      <td>0</td>\n",
       "    </tr>\n",
       "  </tbody>\n",
       "</table>\n",
       "<p>5 rows × 29 columns</p>\n",
       "</div>"
      ],
      "text/plain": [
       "         yr  holiday  workingday      temp       hum  windspeed       cnt  \\\n",
       "instant                                                                     \n",
       "654       1        0           1  0.509887  0.575354   0.300794  0.864243   \n",
       "577       1        0           1  0.815169  0.725633   0.264686  0.827658   \n",
       "427       1        0           0  0.442393  0.640189   0.255342  0.465255   \n",
       "729       1        0           1  0.245101  0.498067   0.663106  0.204096   \n",
       "483       1        0           0  0.395666  0.504508   0.188475  0.482973   \n",
       "\n",
       "         season_spring  season_summer  season_winter  ...  mnth_October  \\\n",
       "instant                                               ...                 \n",
       "654                  0              0              1  ...             1   \n",
       "577                  0              0              0  ...             0   \n",
       "427                  1              0              0  ...             0   \n",
       "729                  1              0              0  ...             0   \n",
       "483                  0              1              0  ...             0   \n",
       "\n",
       "         mnth_September  weathersit_Light Snow  weathersit_Mist  weekday_Mon  \\\n",
       "instant                                                                        \n",
       "654                   0                      0                0            0   \n",
       "577                   0                      0                0            0   \n",
       "427                   0                      0                1            0   \n",
       "729                   0                      0                0            1   \n",
       "483                   0                      0                1            0   \n",
       "\n",
       "         weekday_Sat  weekday_Sun  weekday_Thurs  weekday_Tue  weekday_Wed  \n",
       "instant                                                                     \n",
       "654                0            0              0            0            1  \n",
       "577                0            0              0            0            1  \n",
       "427                0            1              0            0            0  \n",
       "729                0            0              0            0            0  \n",
       "483                0            1              0            0            0  \n",
       "\n",
       "[5 rows x 29 columns]"
      ]
     },
     "execution_count": 46,
     "metadata": {},
     "output_type": "execute_result"
    }
   ],
   "source": [
    "# Checking head of df_train.\n",
    "df_train.head()"
   ]
  },
  {
   "cell_type": "code",
   "execution_count": 47,
   "metadata": {},
   "outputs": [
    {
     "data": {
      "text/html": [
       "<div>\n",
       "<style scoped>\n",
       "    .dataframe tbody tr th:only-of-type {\n",
       "        vertical-align: middle;\n",
       "    }\n",
       "\n",
       "    .dataframe tbody tr th {\n",
       "        vertical-align: top;\n",
       "    }\n",
       "\n",
       "    .dataframe thead th {\n",
       "        text-align: right;\n",
       "    }\n",
       "</style>\n",
       "<table border=\"1\" class=\"dataframe\">\n",
       "  <thead>\n",
       "    <tr style=\"text-align: right;\">\n",
       "      <th></th>\n",
       "      <th>yr</th>\n",
       "      <th>holiday</th>\n",
       "      <th>workingday</th>\n",
       "      <th>temp</th>\n",
       "      <th>hum</th>\n",
       "      <th>windspeed</th>\n",
       "      <th>cnt</th>\n",
       "      <th>season_spring</th>\n",
       "      <th>season_summer</th>\n",
       "      <th>season_winter</th>\n",
       "      <th>...</th>\n",
       "      <th>mnth_October</th>\n",
       "      <th>mnth_September</th>\n",
       "      <th>weathersit_Light Snow</th>\n",
       "      <th>weathersit_Mist</th>\n",
       "      <th>weekday_Mon</th>\n",
       "      <th>weekday_Sat</th>\n",
       "      <th>weekday_Sun</th>\n",
       "      <th>weekday_Thurs</th>\n",
       "      <th>weekday_Tue</th>\n",
       "      <th>weekday_Wed</th>\n",
       "    </tr>\n",
       "  </thead>\n",
       "  <tbody>\n",
       "    <tr>\n",
       "      <th>count</th>\n",
       "      <td>510.000000</td>\n",
       "      <td>510.000000</td>\n",
       "      <td>510.000000</td>\n",
       "      <td>510.000000</td>\n",
       "      <td>510.000000</td>\n",
       "      <td>510.000000</td>\n",
       "      <td>510.000000</td>\n",
       "      <td>510.000000</td>\n",
       "      <td>510.000000</td>\n",
       "      <td>510.00000</td>\n",
       "      <td>...</td>\n",
       "      <td>510.000000</td>\n",
       "      <td>510.000000</td>\n",
       "      <td>510.000000</td>\n",
       "      <td>510.000000</td>\n",
       "      <td>510.000000</td>\n",
       "      <td>510.000000</td>\n",
       "      <td>510.000000</td>\n",
       "      <td>510.000000</td>\n",
       "      <td>510.000000</td>\n",
       "      <td>510.000000</td>\n",
       "    </tr>\n",
       "    <tr>\n",
       "      <th>mean</th>\n",
       "      <td>0.507843</td>\n",
       "      <td>0.025490</td>\n",
       "      <td>0.711765</td>\n",
       "      <td>0.537262</td>\n",
       "      <td>0.650369</td>\n",
       "      <td>0.320768</td>\n",
       "      <td>0.513620</td>\n",
       "      <td>0.243137</td>\n",
       "      <td>0.245098</td>\n",
       "      <td>0.24902</td>\n",
       "      <td>...</td>\n",
       "      <td>0.086275</td>\n",
       "      <td>0.080392</td>\n",
       "      <td>0.029412</td>\n",
       "      <td>0.343137</td>\n",
       "      <td>0.154902</td>\n",
       "      <td>0.129412</td>\n",
       "      <td>0.137255</td>\n",
       "      <td>0.143137</td>\n",
       "      <td>0.152941</td>\n",
       "      <td>0.135294</td>\n",
       "    </tr>\n",
       "    <tr>\n",
       "      <th>std</th>\n",
       "      <td>0.500429</td>\n",
       "      <td>0.157763</td>\n",
       "      <td>0.453386</td>\n",
       "      <td>0.225844</td>\n",
       "      <td>0.145882</td>\n",
       "      <td>0.169797</td>\n",
       "      <td>0.224593</td>\n",
       "      <td>0.429398</td>\n",
       "      <td>0.430568</td>\n",
       "      <td>0.43287</td>\n",
       "      <td>...</td>\n",
       "      <td>0.281045</td>\n",
       "      <td>0.272166</td>\n",
       "      <td>0.169124</td>\n",
       "      <td>0.475223</td>\n",
       "      <td>0.362166</td>\n",
       "      <td>0.335985</td>\n",
       "      <td>0.344454</td>\n",
       "      <td>0.350557</td>\n",
       "      <td>0.360284</td>\n",
       "      <td>0.342373</td>\n",
       "    </tr>\n",
       "    <tr>\n",
       "      <th>min</th>\n",
       "      <td>0.000000</td>\n",
       "      <td>0.000000</td>\n",
       "      <td>0.000000</td>\n",
       "      <td>0.000000</td>\n",
       "      <td>0.000000</td>\n",
       "      <td>0.000000</td>\n",
       "      <td>0.000000</td>\n",
       "      <td>0.000000</td>\n",
       "      <td>0.000000</td>\n",
       "      <td>0.00000</td>\n",
       "      <td>...</td>\n",
       "      <td>0.000000</td>\n",
       "      <td>0.000000</td>\n",
       "      <td>0.000000</td>\n",
       "      <td>0.000000</td>\n",
       "      <td>0.000000</td>\n",
       "      <td>0.000000</td>\n",
       "      <td>0.000000</td>\n",
       "      <td>0.000000</td>\n",
       "      <td>0.000000</td>\n",
       "      <td>0.000000</td>\n",
       "    </tr>\n",
       "    <tr>\n",
       "      <th>25%</th>\n",
       "      <td>0.000000</td>\n",
       "      <td>0.000000</td>\n",
       "      <td>0.000000</td>\n",
       "      <td>0.339853</td>\n",
       "      <td>0.538643</td>\n",
       "      <td>0.199179</td>\n",
       "      <td>0.356420</td>\n",
       "      <td>0.000000</td>\n",
       "      <td>0.000000</td>\n",
       "      <td>0.00000</td>\n",
       "      <td>...</td>\n",
       "      <td>0.000000</td>\n",
       "      <td>0.000000</td>\n",
       "      <td>0.000000</td>\n",
       "      <td>0.000000</td>\n",
       "      <td>0.000000</td>\n",
       "      <td>0.000000</td>\n",
       "      <td>0.000000</td>\n",
       "      <td>0.000000</td>\n",
       "      <td>0.000000</td>\n",
       "      <td>0.000000</td>\n",
       "    </tr>\n",
       "    <tr>\n",
       "      <th>50%</th>\n",
       "      <td>1.000000</td>\n",
       "      <td>0.000000</td>\n",
       "      <td>1.000000</td>\n",
       "      <td>0.540519</td>\n",
       "      <td>0.653714</td>\n",
       "      <td>0.296763</td>\n",
       "      <td>0.518638</td>\n",
       "      <td>0.000000</td>\n",
       "      <td>0.000000</td>\n",
       "      <td>0.00000</td>\n",
       "      <td>...</td>\n",
       "      <td>0.000000</td>\n",
       "      <td>0.000000</td>\n",
       "      <td>0.000000</td>\n",
       "      <td>0.000000</td>\n",
       "      <td>0.000000</td>\n",
       "      <td>0.000000</td>\n",
       "      <td>0.000000</td>\n",
       "      <td>0.000000</td>\n",
       "      <td>0.000000</td>\n",
       "      <td>0.000000</td>\n",
       "    </tr>\n",
       "    <tr>\n",
       "      <th>75%</th>\n",
       "      <td>1.000000</td>\n",
       "      <td>0.000000</td>\n",
       "      <td>1.000000</td>\n",
       "      <td>0.735215</td>\n",
       "      <td>0.754830</td>\n",
       "      <td>0.414447</td>\n",
       "      <td>0.684710</td>\n",
       "      <td>0.000000</td>\n",
       "      <td>0.000000</td>\n",
       "      <td>0.00000</td>\n",
       "      <td>...</td>\n",
       "      <td>0.000000</td>\n",
       "      <td>0.000000</td>\n",
       "      <td>0.000000</td>\n",
       "      <td>1.000000</td>\n",
       "      <td>0.000000</td>\n",
       "      <td>0.000000</td>\n",
       "      <td>0.000000</td>\n",
       "      <td>0.000000</td>\n",
       "      <td>0.000000</td>\n",
       "      <td>0.000000</td>\n",
       "    </tr>\n",
       "    <tr>\n",
       "      <th>max</th>\n",
       "      <td>1.000000</td>\n",
       "      <td>1.000000</td>\n",
       "      <td>1.000000</td>\n",
       "      <td>1.000000</td>\n",
       "      <td>1.000000</td>\n",
       "      <td>1.000000</td>\n",
       "      <td>1.000000</td>\n",
       "      <td>1.000000</td>\n",
       "      <td>1.000000</td>\n",
       "      <td>1.00000</td>\n",
       "      <td>...</td>\n",
       "      <td>1.000000</td>\n",
       "      <td>1.000000</td>\n",
       "      <td>1.000000</td>\n",
       "      <td>1.000000</td>\n",
       "      <td>1.000000</td>\n",
       "      <td>1.000000</td>\n",
       "      <td>1.000000</td>\n",
       "      <td>1.000000</td>\n",
       "      <td>1.000000</td>\n",
       "      <td>1.000000</td>\n",
       "    </tr>\n",
       "  </tbody>\n",
       "</table>\n",
       "<p>8 rows × 29 columns</p>\n",
       "</div>"
      ],
      "text/plain": [
       "               yr     holiday  workingday        temp         hum   windspeed  \\\n",
       "count  510.000000  510.000000  510.000000  510.000000  510.000000  510.000000   \n",
       "mean     0.507843    0.025490    0.711765    0.537262    0.650369    0.320768   \n",
       "std      0.500429    0.157763    0.453386    0.225844    0.145882    0.169797   \n",
       "min      0.000000    0.000000    0.000000    0.000000    0.000000    0.000000   \n",
       "25%      0.000000    0.000000    0.000000    0.339853    0.538643    0.199179   \n",
       "50%      1.000000    0.000000    1.000000    0.540519    0.653714    0.296763   \n",
       "75%      1.000000    0.000000    1.000000    0.735215    0.754830    0.414447   \n",
       "max      1.000000    1.000000    1.000000    1.000000    1.000000    1.000000   \n",
       "\n",
       "              cnt  season_spring  season_summer  season_winter  ...  \\\n",
       "count  510.000000     510.000000     510.000000      510.00000  ...   \n",
       "mean     0.513620       0.243137       0.245098        0.24902  ...   \n",
       "std      0.224593       0.429398       0.430568        0.43287  ...   \n",
       "min      0.000000       0.000000       0.000000        0.00000  ...   \n",
       "25%      0.356420       0.000000       0.000000        0.00000  ...   \n",
       "50%      0.518638       0.000000       0.000000        0.00000  ...   \n",
       "75%      0.684710       0.000000       0.000000        0.00000  ...   \n",
       "max      1.000000       1.000000       1.000000        1.00000  ...   \n",
       "\n",
       "       mnth_October  mnth_September  weathersit_Light Snow  weathersit_Mist  \\\n",
       "count    510.000000      510.000000             510.000000       510.000000   \n",
       "mean       0.086275        0.080392               0.029412         0.343137   \n",
       "std        0.281045        0.272166               0.169124         0.475223   \n",
       "min        0.000000        0.000000               0.000000         0.000000   \n",
       "25%        0.000000        0.000000               0.000000         0.000000   \n",
       "50%        0.000000        0.000000               0.000000         0.000000   \n",
       "75%        0.000000        0.000000               0.000000         1.000000   \n",
       "max        1.000000        1.000000               1.000000         1.000000   \n",
       "\n",
       "       weekday_Mon  weekday_Sat  weekday_Sun  weekday_Thurs  weekday_Tue  \\\n",
       "count   510.000000   510.000000   510.000000     510.000000   510.000000   \n",
       "mean      0.154902     0.129412     0.137255       0.143137     0.152941   \n",
       "std       0.362166     0.335985     0.344454       0.350557     0.360284   \n",
       "min       0.000000     0.000000     0.000000       0.000000     0.000000   \n",
       "25%       0.000000     0.000000     0.000000       0.000000     0.000000   \n",
       "50%       0.000000     0.000000     0.000000       0.000000     0.000000   \n",
       "75%       0.000000     0.000000     0.000000       0.000000     0.000000   \n",
       "max       1.000000     1.000000     1.000000       1.000000     1.000000   \n",
       "\n",
       "       weekday_Wed  \n",
       "count   510.000000  \n",
       "mean      0.135294  \n",
       "std       0.342373  \n",
       "min       0.000000  \n",
       "25%       0.000000  \n",
       "50%       0.000000  \n",
       "75%       0.000000  \n",
       "max       1.000000  \n",
       "\n",
       "[8 rows x 29 columns]"
      ]
     },
     "execution_count": 47,
     "metadata": {},
     "output_type": "execute_result"
    }
   ],
   "source": [
    "df_train.describe()"
   ]
  },
  {
   "cell_type": "code",
   "execution_count": 49,
   "metadata": {},
   "outputs": [
    {
     "data": {
      "image/png": "[encoded data removed]",
      "text/plain": [
       "<Figure size 1152x720 with 2 Axes>"
      ]
     },
     "metadata": {
      "needs_background": "light"
     },
     "output_type": "display_data"
    }
   ],
   "source": [
    "# Let's check the correlation coefficients to see variables which are highly correlated\n",
    "\n",
    "plt.figure(figsize = (16, 10))\n",
    "sns.heatmap(round(df_train.corr(),1), annot = True, cmap=\"Blues\")\n",
    "plt.show()"
   ]
  },
  {
   "cell_type": "markdown",
   "metadata": {},
   "source": [
    "We can see that:\n",
    "- No variables are highly correlated to each other. So, we can proceed for model building."
   ]
  },
  {
   "cell_type": "markdown",
   "metadata": {},
   "source": [
    "### 4.2 Dividing the train data into X and Y sets for the model building"
   ]
  },
  {
   "cell_type": "code",
   "execution_count": 50,
   "metadata": {},
   "outputs": [],
   "source": [
    "# Dividing the data in X_train and y_train.\n",
    "y_train = df_train.pop('cnt')\n",
    "X_train = df_train"
   ]
  },
  {
   "cell_type": "code",
   "execution_count": 51,
   "metadata": {},
   "outputs": [
    {
     "data": {
      "text/plain": [
       "instant\n",
       "654    0.864243\n",
       "577    0.827658\n",
       "427    0.465255\n",
       "729    0.204096\n",
       "483    0.482973\n",
       "Name: cnt, dtype: float64"
      ]
     },
     "execution_count": 51,
     "metadata": {},
     "output_type": "execute_result"
    }
   ],
   "source": [
    "# Checking the head.\n",
    "y_train.head()"
   ]
  },
  {
   "cell_type": "code",
   "execution_count": 52,
   "metadata": {},
   "outputs": [
    {
     "data": {
      "text/html": [
       "<div>\n",
       "<style scoped>\n",
       "    .dataframe tbody tr th:only-of-type {\n",
       "        vertical-align: middle;\n",
       "    }\n",
       "\n",
       "    .dataframe tbody tr th {\n",
       "        vertical-align: top;\n",
       "    }\n",
       "\n",
       "    .dataframe thead th {\n",
       "        text-align: right;\n",
       "    }\n",
       "</style>\n",
       "<table border=\"1\" class=\"dataframe\">\n",
       "  <thead>\n",
       "    <tr style=\"text-align: right;\">\n",
       "      <th></th>\n",
       "      <th>yr</th>\n",
       "      <th>holiday</th>\n",
       "      <th>workingday</th>\n",
       "      <th>temp</th>\n",
       "      <th>hum</th>\n",
       "      <th>windspeed</th>\n",
       "      <th>season_spring</th>\n",
       "      <th>season_summer</th>\n",
       "      <th>season_winter</th>\n",
       "      <th>mnth_August</th>\n",
       "      <th>...</th>\n",
       "      <th>mnth_October</th>\n",
       "      <th>mnth_September</th>\n",
       "      <th>weathersit_Light Snow</th>\n",
       "      <th>weathersit_Mist</th>\n",
       "      <th>weekday_Mon</th>\n",
       "      <th>weekday_Sat</th>\n",
       "      <th>weekday_Sun</th>\n",
       "      <th>weekday_Thurs</th>\n",
       "      <th>weekday_Tue</th>\n",
       "      <th>weekday_Wed</th>\n",
       "    </tr>\n",
       "    <tr>\n",
       "      <th>instant</th>\n",
       "      <th></th>\n",
       "      <th></th>\n",
       "      <th></th>\n",
       "      <th></th>\n",
       "      <th></th>\n",
       "      <th></th>\n",
       "      <th></th>\n",
       "      <th></th>\n",
       "      <th></th>\n",
       "      <th></th>\n",
       "      <th></th>\n",
       "      <th></th>\n",
       "      <th></th>\n",
       "      <th></th>\n",
       "      <th></th>\n",
       "      <th></th>\n",
       "      <th></th>\n",
       "      <th></th>\n",
       "      <th></th>\n",
       "      <th></th>\n",
       "      <th></th>\n",
       "    </tr>\n",
       "  </thead>\n",
       "  <tbody>\n",
       "    <tr>\n",
       "      <th>654</th>\n",
       "      <td>1</td>\n",
       "      <td>0</td>\n",
       "      <td>1</td>\n",
       "      <td>0.509887</td>\n",
       "      <td>0.575354</td>\n",
       "      <td>0.300794</td>\n",
       "      <td>0</td>\n",
       "      <td>0</td>\n",
       "      <td>1</td>\n",
       "      <td>0</td>\n",
       "      <td>...</td>\n",
       "      <td>1</td>\n",
       "      <td>0</td>\n",
       "      <td>0</td>\n",
       "      <td>0</td>\n",
       "      <td>0</td>\n",
       "      <td>0</td>\n",
       "      <td>0</td>\n",
       "      <td>0</td>\n",
       "      <td>0</td>\n",
       "      <td>1</td>\n",
       "    </tr>\n",
       "    <tr>\n",
       "      <th>577</th>\n",
       "      <td>1</td>\n",
       "      <td>0</td>\n",
       "      <td>1</td>\n",
       "      <td>0.815169</td>\n",
       "      <td>0.725633</td>\n",
       "      <td>0.264686</td>\n",
       "      <td>0</td>\n",
       "      <td>0</td>\n",
       "      <td>0</td>\n",
       "      <td>0</td>\n",
       "      <td>...</td>\n",
       "      <td>0</td>\n",
       "      <td>0</td>\n",
       "      <td>0</td>\n",
       "      <td>0</td>\n",
       "      <td>0</td>\n",
       "      <td>0</td>\n",
       "      <td>0</td>\n",
       "      <td>0</td>\n",
       "      <td>0</td>\n",
       "      <td>1</td>\n",
       "    </tr>\n",
       "    <tr>\n",
       "      <th>427</th>\n",
       "      <td>1</td>\n",
       "      <td>0</td>\n",
       "      <td>0</td>\n",
       "      <td>0.442393</td>\n",
       "      <td>0.640189</td>\n",
       "      <td>0.255342</td>\n",
       "      <td>1</td>\n",
       "      <td>0</td>\n",
       "      <td>0</td>\n",
       "      <td>0</td>\n",
       "      <td>...</td>\n",
       "      <td>0</td>\n",
       "      <td>0</td>\n",
       "      <td>0</td>\n",
       "      <td>1</td>\n",
       "      <td>0</td>\n",
       "      <td>0</td>\n",
       "      <td>1</td>\n",
       "      <td>0</td>\n",
       "      <td>0</td>\n",
       "      <td>0</td>\n",
       "    </tr>\n",
       "    <tr>\n",
       "      <th>729</th>\n",
       "      <td>1</td>\n",
       "      <td>0</td>\n",
       "      <td>1</td>\n",
       "      <td>0.245101</td>\n",
       "      <td>0.498067</td>\n",
       "      <td>0.663106</td>\n",
       "      <td>1</td>\n",
       "      <td>0</td>\n",
       "      <td>0</td>\n",
       "      <td>0</td>\n",
       "      <td>...</td>\n",
       "      <td>0</td>\n",
       "      <td>0</td>\n",
       "      <td>0</td>\n",
       "      <td>0</td>\n",
       "      <td>1</td>\n",
       "      <td>0</td>\n",
       "      <td>0</td>\n",
       "      <td>0</td>\n",
       "      <td>0</td>\n",
       "      <td>0</td>\n",
       "    </tr>\n",
       "    <tr>\n",
       "      <th>483</th>\n",
       "      <td>1</td>\n",
       "      <td>0</td>\n",
       "      <td>0</td>\n",
       "      <td>0.395666</td>\n",
       "      <td>0.504508</td>\n",
       "      <td>0.188475</td>\n",
       "      <td>0</td>\n",
       "      <td>1</td>\n",
       "      <td>0</td>\n",
       "      <td>0</td>\n",
       "      <td>...</td>\n",
       "      <td>0</td>\n",
       "      <td>0</td>\n",
       "      <td>0</td>\n",
       "      <td>1</td>\n",
       "      <td>0</td>\n",
       "      <td>0</td>\n",
       "      <td>1</td>\n",
       "      <td>0</td>\n",
       "      <td>0</td>\n",
       "      <td>0</td>\n",
       "    </tr>\n",
       "  </tbody>\n",
       "</table>\n",
       "<p>5 rows × 28 columns</p>\n",
       "</div>"
      ],
      "text/plain": [
       "         yr  holiday  workingday      temp       hum  windspeed  \\\n",
       "instant                                                           \n",
       "654       1        0           1  0.509887  0.575354   0.300794   \n",
       "577       1        0           1  0.815169  0.725633   0.264686   \n",
       "427       1        0           0  0.442393  0.640189   0.255342   \n",
       "729       1        0           1  0.245101  0.498067   0.663106   \n",
       "483       1        0           0  0.395666  0.504508   0.188475   \n",
       "\n",
       "         season_spring  season_summer  season_winter  mnth_August  ...  \\\n",
       "instant                                                            ...   \n",
       "654                  0              0              1            0  ...   \n",
       "577                  0              0              0            0  ...   \n",
       "427                  1              0              0            0  ...   \n",
       "729                  1              0              0            0  ...   \n",
       "483                  0              1              0            0  ...   \n",
       "\n",
       "         mnth_October  mnth_September  weathersit_Light Snow  weathersit_Mist  \\\n",
       "instant                                                                         \n",
       "654                 1               0                      0                0   \n",
       "577                 0               0                      0                0   \n",
       "427                 0               0                      0                1   \n",
       "729                 0               0                      0                0   \n",
       "483                 0               0                      0                1   \n",
       "\n",
       "         weekday_Mon  weekday_Sat  weekday_Sun  weekday_Thurs  weekday_Tue  \\\n",
       "instant                                                                      \n",
       "654                0            0            0              0            0   \n",
       "577                0            0            0              0            0   \n",
       "427                0            0            1              0            0   \n",
       "729                1            0            0              0            0   \n",
       "483                0            0            1              0            0   \n",
       "\n",
       "         weekday_Wed  \n",
       "instant               \n",
       "654                1  \n",
       "577                1  \n",
       "427                0  \n",
       "729                0  \n",
       "483                0  \n",
       "\n",
       "[5 rows x 28 columns]"
      ]
     },
     "execution_count": 52,
     "metadata": {},
     "output_type": "execute_result"
    }
   ],
   "source": [
    "X_train.head()"
   ]
  },
  {
   "cell_type": "markdown",
   "metadata": {},
   "source": [
    "## Step 5: Building a linear model"
   ]
  },
  {
   "cell_type": "markdown",
   "metadata": {},
   "source": [
    "We have 28 predictors to predict and build a model. So, we will use RFE (Recursive Feature Elimination) process which will provide us the features ranked in the order of their importance of impacting the outcome variable.\n",
    "\n",
    "We have to pass a number in the RFE function (in this case, we will pass 15), by this the function will rank the most important 15 features as 1."
   ]
  },
  {
   "cell_type": "markdown",
   "metadata": {},
   "source": [
    "### 5.1 RFE (Recursive Feature Elimination)"
   ]
  },
  {
   "cell_type": "code",
   "execution_count": 53,
   "metadata": {},
   "outputs": [],
   "source": [
    "# Importing 'RFE' and 'LinearRegression' from 'sklearn' library.\n",
    "from sklearn.feature_selection import RFE\n",
    "from sklearn.linear_model import LinearRegression"
   ]
  },
  {
   "cell_type": "code",
   "execution_count": 54,
   "metadata": {},
   "outputs": [],
   "source": [
    "# Running RFE with the output number of the variable equal to 15\n",
    "lm = LinearRegression()\n",
    "lm.fit(X_train, y_train)\n",
    "\n",
    "rfe = RFE(lm, 15)             # running RFE\n",
    "rfe = rfe.fit(X_train, y_train)"
   ]
  },
  {
   "cell_type": "code",
   "execution_count": 55,
   "metadata": {},
   "outputs": [
    {
     "data": {
      "text/plain": [
       "[('yr', True, 1),\n",
       " ('holiday', True, 1),\n",
       " ('workingday', False, 3),\n",
       " ('temp', True, 1),\n",
       " ('hum', True, 1),\n",
       " ('windspeed', True, 1),\n",
       " ('season_spring', True, 1),\n",
       " ('season_summer', True, 1),\n",
       " ('season_winter', True, 1),\n",
       " ('mnth_August', False, 9),\n",
       " ('mnth_December', True, 1),\n",
       " ('mnth_February', False, 2),\n",
       " ('mnth_January', True, 1),\n",
       " ('mnth_July', True, 1),\n",
       " ('mnth_June', False, 13),\n",
       " ('mnth_March', False, 14),\n",
       " ('mnth_May', False, 6),\n",
       " ('mnth_November', True, 1),\n",
       " ('mnth_October', False, 11),\n",
       " ('mnth_September', True, 1),\n",
       " ('weathersit_Light Snow', True, 1),\n",
       " ('weathersit_Mist', True, 1),\n",
       " ('weekday_Mon', False, 8),\n",
       " ('weekday_Sat', False, 4),\n",
       " ('weekday_Sun', False, 5),\n",
       " ('weekday_Thurs', False, 12),\n",
       " ('weekday_Tue', False, 7),\n",
       " ('weekday_Wed', False, 10)]"
      ]
     },
     "execution_count": 55,
     "metadata": {},
     "output_type": "execute_result"
    }
   ],
   "source": [
    "list(zip(X_train.columns,rfe.support_,rfe.ranking_))"
   ]
  },
  {
   "cell_type": "markdown",
   "metadata": {},
   "source": [
    "- RFE has successfully provided 15 features but, it does not mean that these features will form a perfect model. We will evaluate while building the model and will add or remove the features as required."
   ]
  },
  {
   "cell_type": "code",
   "execution_count": 56,
   "metadata": {},
   "outputs": [
    {
     "data": {
      "text/plain": [
       "Index(['yr', 'holiday', 'temp', 'hum', 'windspeed', 'season_spring',\n",
       "       'season_summer', 'season_winter', 'mnth_December', 'mnth_January',\n",
       "       'mnth_July', 'mnth_November', 'mnth_September', 'weathersit_Light Snow',\n",
       "       'weathersit_Mist'],\n",
       "      dtype='object')"
      ]
     },
     "execution_count": 56,
     "metadata": {},
     "output_type": "execute_result"
    }
   ],
   "source": [
    "# Selecting the columns with rank 1.\n",
    "rfe_cols = X_train.columns[rfe.support_]\n",
    "rfe_cols"
   ]
  },
  {
   "cell_type": "code",
   "execution_count": 57,
   "metadata": {},
   "outputs": [
    {
     "data": {
      "text/plain": [
       "Index(['workingday', 'mnth_August', 'mnth_February', 'mnth_June', 'mnth_March',\n",
       "       'mnth_May', 'mnth_October', 'weekday_Mon', 'weekday_Sat', 'weekday_Sun',\n",
       "       'weekday_Thurs', 'weekday_Tue', 'weekday_Wed'],\n",
       "      dtype='object')"
      ]
     },
     "execution_count": 57,
     "metadata": {},
     "output_type": "execute_result"
    }
   ],
   "source": [
    "X_train.columns[~rfe.support_]"
   ]
  },
  {
   "cell_type": "code",
   "execution_count": 58,
   "metadata": {},
   "outputs": [],
   "source": [
    "# Creating X_train dataframe with RFE selected variables\n",
    "X_train_rfe = X_train[rfe_cols]"
   ]
  },
  {
   "cell_type": "markdown",
   "metadata": {},
   "source": [
    "### 5.2 Function for calculating VIF"
   ]
  },
  {
   "cell_type": "code",
   "execution_count": 59,
   "metadata": {},
   "outputs": [],
   "source": [
    "# Importing 'variance_inflation_factor' from 'statsmodels' library.\n",
    "from statsmodels.stats.outliers_influence import variance_inflation_factor\n",
    "\n",
    "def get_df_vif(local_df):\n",
    "    df_vif = pd.DataFrame()\n",
    "    df_vif['Features'] = local_df.columns\n",
    "    df_vif['VIF'] = [variance_inflation_factor(local_df.values, i) for i in range(local_df.shape[1])]\n",
    "    df_vif['VIF'] = round(df_vif['VIF'], 2)\n",
    "    df_vif = df_vif.sort_values(by='VIF', ascending=False)\n",
    "    df_vif = df_vif.reset_index(drop=True)\n",
    "    return df_vif"
   ]
  },
  {
   "cell_type": "markdown",
   "metadata": {},
   "source": [
    "### 5.2 Building model using statsmodel"
   ]
  },
  {
   "cell_type": "code",
   "execution_count": 60,
   "metadata": {},
   "outputs": [],
   "source": [
    "# Importing 'statsmodels' library.\n",
    "import statsmodels.api as sm\n",
    "# Adding a constant variable\n",
    "X_train_rfe = sm.add_constant(X_train_rfe)"
   ]
  },
  {
   "cell_type": "markdown",
   "metadata": {},
   "source": [
    "#### 5.2.1 First Model"
   ]
  },
  {
   "cell_type": "code",
   "execution_count": 61,
   "metadata": {},
   "outputs": [],
   "source": [
    "# Running the linear model\n",
    "lr_model = sm.OLS(y_train, X_train_rfe).fit()"
   ]
  },
  {
   "cell_type": "code",
   "execution_count": 62,
   "metadata": {},
   "outputs": [
    {
     "name": "stdout",
     "output_type": "stream",
     "text": [
      "                            OLS Regression Results                            \n",
      "==============================================================================\n",
      "Dep. Variable:                    cnt   R-squared:                       0.845\n",
      "Model:                            OLS   Adj. R-squared:                  0.841\n",
      "Method:                 Least Squares   F-statistic:                     180.2\n",
      "Date:                Mon, 02 Aug 2021   Prob (F-statistic):          3.34e-189\n",
      "Time:                        13:31:21   Log-Likelihood:                 514.72\n",
      "No. Observations:                 510   AIC:                            -997.4\n",
      "Df Residuals:                     494   BIC:                            -929.7\n",
      "Df Model:                          15                                         \n",
      "Covariance Type:            nonrobust                                         \n",
      "=========================================================================================\n",
      "                            coef    std err          t      P>|t|      [0.025      0.975]\n",
      "-----------------------------------------------------------------------------------------\n",
      "const                     0.3202      0.036      8.886      0.000       0.249       0.391\n",
      "yr                        0.2303      0.008     28.511      0.000       0.214       0.246\n",
      "holiday                  -0.0912      0.026     -3.566      0.000      -0.141      -0.041\n",
      "temp                      0.4800      0.037     12.977      0.000       0.407       0.553\n",
      "hum                      -0.1602      0.038     -4.240      0.000      -0.234      -0.086\n",
      "windspeed                -0.1885      0.026     -7.312      0.000      -0.239      -0.138\n",
      "season_spring            -0.0617      0.021     -2.907      0.004      -0.103      -0.020\n",
      "season_summer             0.0408      0.015      2.659      0.008       0.011       0.071\n",
      "season_winter             0.1034      0.018      5.763      0.000       0.068       0.139\n",
      "mnth_December            -0.0372      0.017     -2.131      0.034      -0.071      -0.003\n",
      "mnth_January             -0.0437      0.018     -2.415      0.016      -0.079      -0.008\n",
      "mnth_July                -0.0555      0.018     -3.046      0.002      -0.091      -0.020\n",
      "mnth_November            -0.0409      0.019     -2.187      0.029      -0.078      -0.004\n",
      "mnth_September            0.0749      0.017      4.438      0.000       0.042       0.108\n",
      "weathersit_Light Snow    -0.2481      0.026     -9.402      0.000      -0.300      -0.196\n",
      "weathersit_Mist          -0.0559      0.010     -5.338      0.000      -0.076      -0.035\n",
      "==============================================================================\n",
      "Omnibus:                       67.327   Durbin-Watson:                   2.016\n",
      "Prob(Omnibus):                  0.000   Jarque-Bera (JB):              164.896\n",
      "Skew:                          -0.684   Prob(JB):                     1.56e-36\n",
      "Kurtosis:                       5.427   Cond. No.                         20.8\n",
      "==============================================================================\n",
      "\n",
      "Notes:\n",
      "[1] Standard Errors assume that the covariance matrix of the errors is correctly specified.\n"
     ]
    }
   ],
   "source": [
    "# Checking the summary of linear model\n",
    "print(lr_model.summary())"
   ]
  },
  {
   "cell_type": "markdown",
   "metadata": {},
   "source": [
    "- Calculating VIF"
   ]
  },
  {
   "cell_type": "code",
   "execution_count": 63,
   "metadata": {},
   "outputs": [
    {
     "data": {
      "text/html": [
       "<div>\n",
       "<style scoped>\n",
       "    .dataframe tbody tr th:only-of-type {\n",
       "        vertical-align: middle;\n",
       "    }\n",
       "\n",
       "    .dataframe tbody tr th {\n",
       "        vertical-align: top;\n",
       "    }\n",
       "\n",
       "    .dataframe thead th {\n",
       "        text-align: right;\n",
       "    }\n",
       "</style>\n",
       "<table border=\"1\" class=\"dataframe\">\n",
       "  <thead>\n",
       "    <tr style=\"text-align: right;\">\n",
       "      <th></th>\n",
       "      <th>Features</th>\n",
       "      <th>VIF</th>\n",
       "    </tr>\n",
       "  </thead>\n",
       "  <tbody>\n",
       "    <tr>\n",
       "      <th>0</th>\n",
       "      <td>const</td>\n",
       "      <td>82.48</td>\n",
       "    </tr>\n",
       "    <tr>\n",
       "      <th>1</th>\n",
       "      <td>season_spring</td>\n",
       "      <td>5.27</td>\n",
       "    </tr>\n",
       "    <tr>\n",
       "      <th>2</th>\n",
       "      <td>temp</td>\n",
       "      <td>4.42</td>\n",
       "    </tr>\n",
       "    <tr>\n",
       "      <th>3</th>\n",
       "      <td>season_winter</td>\n",
       "      <td>3.83</td>\n",
       "    </tr>\n",
       "    <tr>\n",
       "      <th>4</th>\n",
       "      <td>season_summer</td>\n",
       "      <td>2.76</td>\n",
       "    </tr>\n",
       "    <tr>\n",
       "      <th>5</th>\n",
       "      <td>hum</td>\n",
       "      <td>1.93</td>\n",
       "    </tr>\n",
       "    <tr>\n",
       "      <th>6</th>\n",
       "      <td>mnth_November</td>\n",
       "      <td>1.76</td>\n",
       "    </tr>\n",
       "    <tr>\n",
       "      <th>7</th>\n",
       "      <td>mnth_January</td>\n",
       "      <td>1.68</td>\n",
       "    </tr>\n",
       "    <tr>\n",
       "      <th>8</th>\n",
       "      <td>weathersit_Mist</td>\n",
       "      <td>1.57</td>\n",
       "    </tr>\n",
       "    <tr>\n",
       "      <th>9</th>\n",
       "      <td>mnth_December</td>\n",
       "      <td>1.49</td>\n",
       "    </tr>\n",
       "    <tr>\n",
       "      <th>10</th>\n",
       "      <td>mnth_July</td>\n",
       "      <td>1.49</td>\n",
       "    </tr>\n",
       "    <tr>\n",
       "      <th>11</th>\n",
       "      <td>mnth_September</td>\n",
       "      <td>1.34</td>\n",
       "    </tr>\n",
       "    <tr>\n",
       "      <th>12</th>\n",
       "      <td>weathersit_Light Snow</td>\n",
       "      <td>1.26</td>\n",
       "    </tr>\n",
       "    <tr>\n",
       "      <th>13</th>\n",
       "      <td>windspeed</td>\n",
       "      <td>1.21</td>\n",
       "    </tr>\n",
       "    <tr>\n",
       "      <th>14</th>\n",
       "      <td>yr</td>\n",
       "      <td>1.04</td>\n",
       "    </tr>\n",
       "    <tr>\n",
       "      <th>15</th>\n",
       "      <td>holiday</td>\n",
       "      <td>1.03</td>\n",
       "    </tr>\n",
       "  </tbody>\n",
       "</table>\n",
       "</div>"
      ],
      "text/plain": [
       "                 Features    VIF\n",
       "0                   const  82.48\n",
       "1           season_spring   5.27\n",
       "2                    temp   4.42\n",
       "3           season_winter   3.83\n",
       "4           season_summer   2.76\n",
       "5                     hum   1.93\n",
       "6           mnth_November   1.76\n",
       "7            mnth_January   1.68\n",
       "8         weathersit_Mist   1.57\n",
       "9           mnth_December   1.49\n",
       "10              mnth_July   1.49\n",
       "11         mnth_September   1.34\n",
       "12  weathersit_Light Snow   1.26\n",
       "13              windspeed   1.21\n",
       "14                     yr   1.04\n",
       "15                holiday   1.03"
      ]
     },
     "execution_count": 63,
     "metadata": {},
     "output_type": "execute_result"
    }
   ],
   "source": [
    "# Calculating the VIF\n",
    "get_df_vif(X_train_rfe)"
   ]
  },
  {
   "cell_type": "markdown",
   "metadata": {},
   "source": [
    "From the above model, we can see that:\n",
    "- All the features have p-value less than 0.05.\n",
    "- But, VIF value of 'season_spring' feature is 5.27 and feature with VIF value above 5 can be dropped."
   ]
  },
  {
   "cell_type": "markdown",
   "metadata": {},
   "source": [
    "#### 5.2.2 Second Model"
   ]
  },
  {
   "cell_type": "code",
   "execution_count": 64,
   "metadata": {},
   "outputs": [],
   "source": [
    "# Dropping 'season_spring'.\n",
    "X_train_rfe = X_train_rfe.drop(['season_spring'], axis=1)"
   ]
  },
  {
   "cell_type": "code",
   "execution_count": 65,
   "metadata": {},
   "outputs": [
    {
     "data": {
      "text/html": [
       "<table class=\"simpletable\">\n",
       "<caption>OLS Regression Results</caption>\n",
       "<tr>\n",
       "  <th>Dep. Variable:</th>           <td>cnt</td>       <th>  R-squared:         </th> <td>   0.843</td> \n",
       "</tr>\n",
       "<tr>\n",
       "  <th>Model:</th>                   <td>OLS</td>       <th>  Adj. R-squared:    </th> <td>   0.838</td> \n",
       "</tr>\n",
       "<tr>\n",
       "  <th>Method:</th>             <td>Least Squares</td>  <th>  F-statistic:       </th> <td>   189.6</td> \n",
       "</tr>\n",
       "<tr>\n",
       "  <th>Date:</th>             <td>Mon, 02 Aug 2021</td> <th>  Prob (F-statistic):</th> <td>1.54e-188</td>\n",
       "</tr>\n",
       "<tr>\n",
       "  <th>Time:</th>                 <td>13:57:41</td>     <th>  Log-Likelihood:    </th> <td>  510.40</td> \n",
       "</tr>\n",
       "<tr>\n",
       "  <th>No. Observations:</th>      <td>   510</td>      <th>  AIC:               </th> <td>  -990.8</td> \n",
       "</tr>\n",
       "<tr>\n",
       "  <th>Df Residuals:</th>          <td>   495</td>      <th>  BIC:               </th> <td>  -927.3</td> \n",
       "</tr>\n",
       "<tr>\n",
       "  <th>Df Model:</th>              <td>    14</td>      <th>                     </th>     <td> </td>    \n",
       "</tr>\n",
       "<tr>\n",
       "  <th>Covariance Type:</th>      <td>nonrobust</td>    <th>                     </th>     <td> </td>    \n",
       "</tr>\n",
       "</table>\n",
       "<table class=\"simpletable\">\n",
       "<tr>\n",
       "            <td></td>               <th>coef</th>     <th>std err</th>      <th>t</th>      <th>P>|t|</th>  <th>[0.025</th>    <th>0.975]</th>  \n",
       "</tr>\n",
       "<tr>\n",
       "  <th>const</th>                 <td>    0.2563</td> <td>    0.029</td> <td>    8.912</td> <td> 0.000</td> <td>    0.200</td> <td>    0.313</td>\n",
       "</tr>\n",
       "<tr>\n",
       "  <th>yr</th>                    <td>    0.2289</td> <td>    0.008</td> <td>   28.178</td> <td> 0.000</td> <td>    0.213</td> <td>    0.245</td>\n",
       "</tr>\n",
       "<tr>\n",
       "  <th>holiday</th>               <td>   -0.0947</td> <td>    0.026</td> <td>   -3.680</td> <td> 0.000</td> <td>   -0.145</td> <td>   -0.044</td>\n",
       "</tr>\n",
       "<tr>\n",
       "  <th>temp</th>                  <td>    0.5540</td> <td>    0.027</td> <td>   20.510</td> <td> 0.000</td> <td>    0.501</td> <td>    0.607</td>\n",
       "</tr>\n",
       "<tr>\n",
       "  <th>hum</th>                   <td>   -0.1723</td> <td>    0.038</td> <td>   -4.553</td> <td> 0.000</td> <td>   -0.247</td> <td>   -0.098</td>\n",
       "</tr>\n",
       "<tr>\n",
       "  <th>windspeed</th>             <td>   -0.1969</td> <td>    0.026</td> <td>   -7.633</td> <td> 0.000</td> <td>   -0.248</td> <td>   -0.146</td>\n",
       "</tr>\n",
       "<tr>\n",
       "  <th>season_summer</th>         <td>    0.0716</td> <td>    0.011</td> <td>    6.423</td> <td> 0.000</td> <td>    0.050</td> <td>    0.094</td>\n",
       "</tr>\n",
       "<tr>\n",
       "  <th>season_winter</th>         <td>    0.1387</td> <td>    0.013</td> <td>   10.412</td> <td> 0.000</td> <td>    0.113</td> <td>    0.165</td>\n",
       "</tr>\n",
       "<tr>\n",
       "  <th>mnth_December</th>         <td>   -0.0312</td> <td>    0.017</td> <td>   -1.786</td> <td> 0.075</td> <td>   -0.066</td> <td>    0.003</td>\n",
       "</tr>\n",
       "<tr>\n",
       "  <th>mnth_January</th>          <td>   -0.0476</td> <td>    0.018</td> <td>   -2.613</td> <td> 0.009</td> <td>   -0.083</td> <td>   -0.012</td>\n",
       "</tr>\n",
       "<tr>\n",
       "  <th>mnth_July</th>             <td>   -0.0454</td> <td>    0.018</td> <td>   -2.520</td> <td> 0.012</td> <td>   -0.081</td> <td>   -0.010</td>\n",
       "</tr>\n",
       "<tr>\n",
       "  <th>mnth_November</th>         <td>   -0.0310</td> <td>    0.019</td> <td>   -1.674</td> <td> 0.095</td> <td>   -0.067</td> <td>    0.005</td>\n",
       "</tr>\n",
       "<tr>\n",
       "  <th>mnth_September</th>        <td>    0.0899</td> <td>    0.016</td> <td>    5.549</td> <td> 0.000</td> <td>    0.058</td> <td>    0.122</td>\n",
       "</tr>\n",
       "<tr>\n",
       "  <th>weathersit_Light Snow</th> <td>   -0.2418</td> <td>    0.026</td> <td>   -9.125</td> <td> 0.000</td> <td>   -0.294</td> <td>   -0.190</td>\n",
       "</tr>\n",
       "<tr>\n",
       "  <th>weathersit_Mist</th>       <td>   -0.0530</td> <td>    0.010</td> <td>   -5.046</td> <td> 0.000</td> <td>   -0.074</td> <td>   -0.032</td>\n",
       "</tr>\n",
       "</table>\n",
       "<table class=\"simpletable\">\n",
       "<tr>\n",
       "  <th>Omnibus:</th>       <td>58.853</td> <th>  Durbin-Watson:     </th> <td>   2.044</td>\n",
       "</tr>\n",
       "<tr>\n",
       "  <th>Prob(Omnibus):</th> <td> 0.000</td> <th>  Jarque-Bera (JB):  </th> <td> 123.887</td>\n",
       "</tr>\n",
       "<tr>\n",
       "  <th>Skew:</th>          <td>-0.650</td> <th>  Prob(JB):          </th> <td>1.25e-27</td>\n",
       "</tr>\n",
       "<tr>\n",
       "  <th>Kurtosis:</th>      <td> 5.034</td> <th>  Cond. No.          </th> <td>    18.5</td>\n",
       "</tr>\n",
       "</table><br/><br/>Notes:<br/>[1] Standard Errors assume that the covariance matrix of the errors is correctly specified."
      ],
      "text/plain": [
       "<class 'statsmodels.iolib.summary.Summary'>\n",
       "\"\"\"\n",
       "                            OLS Regression Results                            \n",
       "==============================================================================\n",
       "Dep. Variable:                    cnt   R-squared:                       0.843\n",
       "Model:                            OLS   Adj. R-squared:                  0.838\n",
       "Method:                 Least Squares   F-statistic:                     189.6\n",
       "Date:                Mon, 02 Aug 2021   Prob (F-statistic):          1.54e-188\n",
       "Time:                        13:57:41   Log-Likelihood:                 510.40\n",
       "No. Observations:                 510   AIC:                            -990.8\n",
       "Df Residuals:                     495   BIC:                            -927.3\n",
       "Df Model:                          14                                         \n",
       "Covariance Type:            nonrobust                                         \n",
       "=========================================================================================\n",
       "                            coef    std err          t      P>|t|      [0.025      0.975]\n",
       "-----------------------------------------------------------------------------------------\n",
       "const                     0.2563      0.029      8.912      0.000       0.200       0.313\n",
       "yr                        0.2289      0.008     28.178      0.000       0.213       0.245\n",
       "holiday                  -0.0947      0.026     -3.680      0.000      -0.145      -0.044\n",
       "temp                      0.5540      0.027     20.510      0.000       0.501       0.607\n",
       "hum                      -0.1723      0.038     -4.553      0.000      -0.247      -0.098\n",
       "windspeed                -0.1969      0.026     -7.633      0.000      -0.248      -0.146\n",
       "season_summer             0.0716      0.011      6.423      0.000       0.050       0.094\n",
       "season_winter             0.1387      0.013     10.412      0.000       0.113       0.165\n",
       "mnth_December            -0.0312      0.017     -1.786      0.075      -0.066       0.003\n",
       "mnth_January             -0.0476      0.018     -2.613      0.009      -0.083      -0.012\n",
       "mnth_July                -0.0454      0.018     -2.520      0.012      -0.081      -0.010\n",
       "mnth_November            -0.0310      0.019     -1.674      0.095      -0.067       0.005\n",
       "mnth_September            0.0899      0.016      5.549      0.000       0.058       0.122\n",
       "weathersit_Light Snow    -0.2418      0.026     -9.125      0.000      -0.294      -0.190\n",
       "weathersit_Mist          -0.0530      0.010     -5.046      0.000      -0.074      -0.032\n",
       "==============================================================================\n",
       "Omnibus:                       58.853   Durbin-Watson:                   2.044\n",
       "Prob(Omnibus):                  0.000   Jarque-Bera (JB):              123.887\n",
       "Skew:                          -0.650   Prob(JB):                     1.25e-27\n",
       "Kurtosis:                       5.034   Cond. No.                         18.5\n",
       "==============================================================================\n",
       "\n",
       "Notes:\n",
       "[1] Standard Errors assume that the covariance matrix of the errors is correctly specified.\n",
       "\"\"\""
      ]
     },
     "execution_count": 65,
     "metadata": {},
     "output_type": "execute_result"
    }
   ],
   "source": [
    "# Running the linear model and checking the summary.\n",
    "X_train_rfe = sm.add_constant(X_train_rfe)\n",
    "lr_model = sm.OLS(y_train, X_train_rfe).fit()\n",
    "lr_model.summary()"
   ]
  },
  {
   "cell_type": "code",
   "execution_count": 66,
   "metadata": {},
   "outputs": [
    {
     "data": {
      "text/html": [
       "<div>\n",
       "<style scoped>\n",
       "    .dataframe tbody tr th:only-of-type {\n",
       "        vertical-align: middle;\n",
       "    }\n",
       "\n",
       "    .dataframe tbody tr th {\n",
       "        vertical-align: top;\n",
       "    }\n",
       "\n",
       "    .dataframe thead th {\n",
       "        text-align: right;\n",
       "    }\n",
       "</style>\n",
       "<table border=\"1\" class=\"dataframe\">\n",
       "  <thead>\n",
       "    <tr style=\"text-align: right;\">\n",
       "      <th></th>\n",
       "      <th>Features</th>\n",
       "      <th>VIF</th>\n",
       "    </tr>\n",
       "  </thead>\n",
       "  <tbody>\n",
       "    <tr>\n",
       "      <th>0</th>\n",
       "      <td>const</td>\n",
       "      <td>51.75</td>\n",
       "    </tr>\n",
       "    <tr>\n",
       "      <th>1</th>\n",
       "      <td>temp</td>\n",
       "      <td>2.32</td>\n",
       "    </tr>\n",
       "    <tr>\n",
       "      <th>2</th>\n",
       "      <td>season_winter</td>\n",
       "      <td>2.08</td>\n",
       "    </tr>\n",
       "    <tr>\n",
       "      <th>3</th>\n",
       "      <td>hum</td>\n",
       "      <td>1.90</td>\n",
       "    </tr>\n",
       "    <tr>\n",
       "      <th>4</th>\n",
       "      <td>mnth_November</td>\n",
       "      <td>1.70</td>\n",
       "    </tr>\n",
       "    <tr>\n",
       "      <th>5</th>\n",
       "      <td>mnth_January</td>\n",
       "      <td>1.67</td>\n",
       "    </tr>\n",
       "    <tr>\n",
       "      <th>6</th>\n",
       "      <td>weathersit_Mist</td>\n",
       "      <td>1.55</td>\n",
       "    </tr>\n",
       "    <tr>\n",
       "      <th>7</th>\n",
       "      <td>mnth_December</td>\n",
       "      <td>1.47</td>\n",
       "    </tr>\n",
       "    <tr>\n",
       "      <th>8</th>\n",
       "      <td>season_summer</td>\n",
       "      <td>1.44</td>\n",
       "    </tr>\n",
       "    <tr>\n",
       "      <th>9</th>\n",
       "      <td>mnth_July</td>\n",
       "      <td>1.43</td>\n",
       "    </tr>\n",
       "    <tr>\n",
       "      <th>10</th>\n",
       "      <td>weathersit_Light Snow</td>\n",
       "      <td>1.25</td>\n",
       "    </tr>\n",
       "    <tr>\n",
       "      <th>11</th>\n",
       "      <td>mnth_September</td>\n",
       "      <td>1.21</td>\n",
       "    </tr>\n",
       "    <tr>\n",
       "      <th>12</th>\n",
       "      <td>windspeed</td>\n",
       "      <td>1.20</td>\n",
       "    </tr>\n",
       "    <tr>\n",
       "      <th>13</th>\n",
       "      <td>yr</td>\n",
       "      <td>1.03</td>\n",
       "    </tr>\n",
       "    <tr>\n",
       "      <th>14</th>\n",
       "      <td>holiday</td>\n",
       "      <td>1.03</td>\n",
       "    </tr>\n",
       "  </tbody>\n",
       "</table>\n",
       "</div>"
      ],
      "text/plain": [
       "                 Features    VIF\n",
       "0                   const  51.75\n",
       "1                    temp   2.32\n",
       "2           season_winter   2.08\n",
       "3                     hum   1.90\n",
       "4           mnth_November   1.70\n",
       "5            mnth_January   1.67\n",
       "6         weathersit_Mist   1.55\n",
       "7           mnth_December   1.47\n",
       "8           season_summer   1.44\n",
       "9               mnth_July   1.43\n",
       "10  weathersit_Light Snow   1.25\n",
       "11         mnth_September   1.21\n",
       "12              windspeed   1.20\n",
       "13                     yr   1.03\n",
       "14                holiday   1.03"
      ]
     },
     "execution_count": 66,
     "metadata": {},
     "output_type": "execute_result"
    }
   ],
   "source": [
    "# Calculating the VIF\n",
    "get_df_vif(X_train_rfe)"
   ]
  },
  {
   "cell_type": "markdown",
   "metadata": {},
   "source": [
    "From the above model, we can see that:\n",
    "- Feature 'mnth_November' has p-value 0.095 which is greater than 0.05. So, we will drop 'mnth_November' feature.\n",
    "- VIF values of all features is below 5."
   ]
  },
  {
   "cell_type": "markdown",
   "metadata": {},
   "source": [
    "#### 5.2.3 Third Model"
   ]
  },
  {
   "cell_type": "code",
   "execution_count": 67,
   "metadata": {},
   "outputs": [],
   "source": [
    "# Dropping 'mnth_November'.\n",
    "X_train_rfe = X_train_rfe.drop(['mnth_November'], axis=1)"
   ]
  },
  {
   "cell_type": "code",
   "execution_count": 68,
   "metadata": {},
   "outputs": [
    {
     "data": {
      "text/html": [
       "<table class=\"simpletable\">\n",
       "<caption>OLS Regression Results</caption>\n",
       "<tr>\n",
       "  <th>Dep. Variable:</th>           <td>cnt</td>       <th>  R-squared:         </th> <td>   0.842</td> \n",
       "</tr>\n",
       "<tr>\n",
       "  <th>Model:</th>                   <td>OLS</td>       <th>  Adj. R-squared:    </th> <td>   0.838</td> \n",
       "</tr>\n",
       "<tr>\n",
       "  <th>Method:</th>             <td>Least Squares</td>  <th>  F-statistic:       </th> <td>   203.3</td> \n",
       "</tr>\n",
       "<tr>\n",
       "  <th>Date:</th>             <td>Mon, 02 Aug 2021</td> <th>  Prob (F-statistic):</th> <td>4.25e-189</td>\n",
       "</tr>\n",
       "<tr>\n",
       "  <th>Time:</th>                 <td>14:05:33</td>     <th>  Log-Likelihood:    </th> <td>  508.96</td> \n",
       "</tr>\n",
       "<tr>\n",
       "  <th>No. Observations:</th>      <td>   510</td>      <th>  AIC:               </th> <td>  -989.9</td> \n",
       "</tr>\n",
       "<tr>\n",
       "  <th>Df Residuals:</th>          <td>   496</td>      <th>  BIC:               </th> <td>  -930.6</td> \n",
       "</tr>\n",
       "<tr>\n",
       "  <th>Df Model:</th>              <td>    13</td>      <th>                     </th>     <td> </td>    \n",
       "</tr>\n",
       "<tr>\n",
       "  <th>Covariance Type:</th>      <td>nonrobust</td>    <th>                     </th>     <td> </td>    \n",
       "</tr>\n",
       "</table>\n",
       "<table class=\"simpletable\">\n",
       "<tr>\n",
       "            <td></td>               <th>coef</th>     <th>std err</th>      <th>t</th>      <th>P>|t|</th>  <th>[0.025</th>    <th>0.975]</th>  \n",
       "</tr>\n",
       "<tr>\n",
       "  <th>const</th>                 <td>    0.2498</td> <td>    0.029</td> <td>    8.751</td> <td> 0.000</td> <td>    0.194</td> <td>    0.306</td>\n",
       "</tr>\n",
       "<tr>\n",
       "  <th>yr</th>                    <td>    0.2290</td> <td>    0.008</td> <td>   28.131</td> <td> 0.000</td> <td>    0.213</td> <td>    0.245</td>\n",
       "</tr>\n",
       "<tr>\n",
       "  <th>holiday</th>               <td>   -0.0996</td> <td>    0.026</td> <td>   -3.887</td> <td> 0.000</td> <td>   -0.150</td> <td>   -0.049</td>\n",
       "</tr>\n",
       "<tr>\n",
       "  <th>temp</th>                  <td>    0.5621</td> <td>    0.027</td> <td>   21.106</td> <td> 0.000</td> <td>    0.510</td> <td>    0.614</td>\n",
       "</tr>\n",
       "<tr>\n",
       "  <th>hum</th>                   <td>   -0.1718</td> <td>    0.038</td> <td>   -4.530</td> <td> 0.000</td> <td>   -0.246</td> <td>   -0.097</td>\n",
       "</tr>\n",
       "<tr>\n",
       "  <th>windspeed</th>             <td>   -0.1969</td> <td>    0.026</td> <td>   -7.618</td> <td> 0.000</td> <td>   -0.248</td> <td>   -0.146</td>\n",
       "</tr>\n",
       "<tr>\n",
       "  <th>season_summer</th>         <td>    0.0728</td> <td>    0.011</td> <td>    6.530</td> <td> 0.000</td> <td>    0.051</td> <td>    0.095</td>\n",
       "</tr>\n",
       "<tr>\n",
       "  <th>season_winter</th>         <td>    0.1275</td> <td>    0.012</td> <td>   11.062</td> <td> 0.000</td> <td>    0.105</td> <td>    0.150</td>\n",
       "</tr>\n",
       "<tr>\n",
       "  <th>mnth_December</th>         <td>   -0.0201</td> <td>    0.016</td> <td>   -1.241</td> <td> 0.215</td> <td>   -0.052</td> <td>    0.012</td>\n",
       "</tr>\n",
       "<tr>\n",
       "  <th>mnth_January</th>          <td>   -0.0432</td> <td>    0.018</td> <td>   -2.392</td> <td> 0.017</td> <td>   -0.079</td> <td>   -0.008</td>\n",
       "</tr>\n",
       "<tr>\n",
       "  <th>mnth_July</th>             <td>   -0.0464</td> <td>    0.018</td> <td>   -2.572</td> <td> 0.010</td> <td>   -0.082</td> <td>   -0.011</td>\n",
       "</tr>\n",
       "<tr>\n",
       "  <th>mnth_September</th>        <td>    0.0927</td> <td>    0.016</td> <td>    5.745</td> <td> 0.000</td> <td>    0.061</td> <td>    0.124</td>\n",
       "</tr>\n",
       "<tr>\n",
       "  <th>weathersit_Light Snow</th> <td>   -0.2392</td> <td>    0.026</td> <td>   -9.025</td> <td> 0.000</td> <td>   -0.291</td> <td>   -0.187</td>\n",
       "</tr>\n",
       "<tr>\n",
       "  <th>weathersit_Mist</th>       <td>   -0.0526</td> <td>    0.011</td> <td>   -5.002</td> <td> 0.000</td> <td>   -0.073</td> <td>   -0.032</td>\n",
       "</tr>\n",
       "</table>\n",
       "<table class=\"simpletable\">\n",
       "<tr>\n",
       "  <th>Omnibus:</th>       <td>55.375</td> <th>  Durbin-Watson:     </th> <td>   2.059</td>\n",
       "</tr>\n",
       "<tr>\n",
       "  <th>Prob(Omnibus):</th> <td> 0.000</td> <th>  Jarque-Bera (JB):  </th> <td> 113.484</td>\n",
       "</tr>\n",
       "<tr>\n",
       "  <th>Skew:</th>          <td>-0.624</td> <th>  Prob(JB):          </th> <td>2.28e-25</td>\n",
       "</tr>\n",
       "<tr>\n",
       "  <th>Kurtosis:</th>      <td> 4.945</td> <th>  Cond. No.          </th> <td>    18.4</td>\n",
       "</tr>\n",
       "</table><br/><br/>Notes:<br/>[1] Standard Errors assume that the covariance matrix of the errors is correctly specified."
      ],
      "text/plain": [
       "<class 'statsmodels.iolib.summary.Summary'>\n",
       "\"\"\"\n",
       "                            OLS Regression Results                            \n",
       "==============================================================================\n",
       "Dep. Variable:                    cnt   R-squared:                       0.842\n",
       "Model:                            OLS   Adj. R-squared:                  0.838\n",
       "Method:                 Least Squares   F-statistic:                     203.3\n",
       "Date:                Mon, 02 Aug 2021   Prob (F-statistic):          4.25e-189\n",
       "Time:                        14:05:33   Log-Likelihood:                 508.96\n",
       "No. Observations:                 510   AIC:                            -989.9\n",
       "Df Residuals:                     496   BIC:                            -930.6\n",
       "Df Model:                          13                                         \n",
       "Covariance Type:            nonrobust                                         \n",
       "=========================================================================================\n",
       "                            coef    std err          t      P>|t|      [0.025      0.975]\n",
       "-----------------------------------------------------------------------------------------\n",
       "const                     0.2498      0.029      8.751      0.000       0.194       0.306\n",
       "yr                        0.2290      0.008     28.131      0.000       0.213       0.245\n",
       "holiday                  -0.0996      0.026     -3.887      0.000      -0.150      -0.049\n",
       "temp                      0.5621      0.027     21.106      0.000       0.510       0.614\n",
       "hum                      -0.1718      0.038     -4.530      0.000      -0.246      -0.097\n",
       "windspeed                -0.1969      0.026     -7.618      0.000      -0.248      -0.146\n",
       "season_summer             0.0728      0.011      6.530      0.000       0.051       0.095\n",
       "season_winter             0.1275      0.012     11.062      0.000       0.105       0.150\n",
       "mnth_December            -0.0201      0.016     -1.241      0.215      -0.052       0.012\n",
       "mnth_January             -0.0432      0.018     -2.392      0.017      -0.079      -0.008\n",
       "mnth_July                -0.0464      0.018     -2.572      0.010      -0.082      -0.011\n",
       "mnth_September            0.0927      0.016      5.745      0.000       0.061       0.124\n",
       "weathersit_Light Snow    -0.2392      0.026     -9.025      0.000      -0.291      -0.187\n",
       "weathersit_Mist          -0.0526      0.011     -5.002      0.000      -0.073      -0.032\n",
       "==============================================================================\n",
       "Omnibus:                       55.375   Durbin-Watson:                   2.059\n",
       "Prob(Omnibus):                  0.000   Jarque-Bera (JB):              113.484\n",
       "Skew:                          -0.624   Prob(JB):                     2.28e-25\n",
       "Kurtosis:                       4.945   Cond. No.                         18.4\n",
       "==============================================================================\n",
       "\n",
       "Notes:\n",
       "[1] Standard Errors assume that the covariance matrix of the errors is correctly specified.\n",
       "\"\"\""
      ]
     },
     "execution_count": 68,
     "metadata": {},
     "output_type": "execute_result"
    }
   ],
   "source": [
    "# Running the linear model and checking the summary.\n",
    "X_train_rfe = sm.add_constant(X_train_rfe)\n",
    "lr_model = sm.OLS(y_train, X_train_rfe).fit()\n",
    "lr_model.summary()"
   ]
  },
  {
   "cell_type": "code",
   "execution_count": 69,
   "metadata": {},
   "outputs": [
    {
     "data": {
      "text/html": [
       "<div>\n",
       "<style scoped>\n",
       "    .dataframe tbody tr th:only-of-type {\n",
       "        vertical-align: middle;\n",
       "    }\n",
       "\n",
       "    .dataframe tbody tr th {\n",
       "        vertical-align: top;\n",
       "    }\n",
       "\n",
       "    .dataframe thead th {\n",
       "        text-align: right;\n",
       "    }\n",
       "</style>\n",
       "<table border=\"1\" class=\"dataframe\">\n",
       "  <thead>\n",
       "    <tr style=\"text-align: right;\">\n",
       "      <th></th>\n",
       "      <th>Features</th>\n",
       "      <th>VIF</th>\n",
       "    </tr>\n",
       "  </thead>\n",
       "  <tbody>\n",
       "    <tr>\n",
       "      <th>0</th>\n",
       "      <td>const</td>\n",
       "      <td>50.82</td>\n",
       "    </tr>\n",
       "    <tr>\n",
       "      <th>1</th>\n",
       "      <td>temp</td>\n",
       "      <td>2.25</td>\n",
       "    </tr>\n",
       "    <tr>\n",
       "      <th>2</th>\n",
       "      <td>hum</td>\n",
       "      <td>1.90</td>\n",
       "    </tr>\n",
       "    <tr>\n",
       "      <th>3</th>\n",
       "      <td>mnth_January</td>\n",
       "      <td>1.63</td>\n",
       "    </tr>\n",
       "    <tr>\n",
       "      <th>4</th>\n",
       "      <td>season_winter</td>\n",
       "      <td>1.55</td>\n",
       "    </tr>\n",
       "    <tr>\n",
       "      <th>5</th>\n",
       "      <td>weathersit_Mist</td>\n",
       "      <td>1.55</td>\n",
       "    </tr>\n",
       "    <tr>\n",
       "      <th>6</th>\n",
       "      <td>season_summer</td>\n",
       "      <td>1.43</td>\n",
       "    </tr>\n",
       "    <tr>\n",
       "      <th>7</th>\n",
       "      <td>mnth_July</td>\n",
       "      <td>1.43</td>\n",
       "    </tr>\n",
       "    <tr>\n",
       "      <th>8</th>\n",
       "      <td>mnth_December</td>\n",
       "      <td>1.26</td>\n",
       "    </tr>\n",
       "    <tr>\n",
       "      <th>9</th>\n",
       "      <td>weathersit_Light Snow</td>\n",
       "      <td>1.25</td>\n",
       "    </tr>\n",
       "    <tr>\n",
       "      <th>10</th>\n",
       "      <td>windspeed</td>\n",
       "      <td>1.20</td>\n",
       "    </tr>\n",
       "    <tr>\n",
       "      <th>11</th>\n",
       "      <td>mnth_September</td>\n",
       "      <td>1.20</td>\n",
       "    </tr>\n",
       "    <tr>\n",
       "      <th>12</th>\n",
       "      <td>yr</td>\n",
       "      <td>1.03</td>\n",
       "    </tr>\n",
       "    <tr>\n",
       "      <th>13</th>\n",
       "      <td>holiday</td>\n",
       "      <td>1.02</td>\n",
       "    </tr>\n",
       "  </tbody>\n",
       "</table>\n",
       "</div>"
      ],
      "text/plain": [
       "                 Features    VIF\n",
       "0                   const  50.82\n",
       "1                    temp   2.25\n",
       "2                     hum   1.90\n",
       "3            mnth_January   1.63\n",
       "4           season_winter   1.55\n",
       "5         weathersit_Mist   1.55\n",
       "6           season_summer   1.43\n",
       "7               mnth_July   1.43\n",
       "8           mnth_December   1.26\n",
       "9   weathersit_Light Snow   1.25\n",
       "10              windspeed   1.20\n",
       "11         mnth_September   1.20\n",
       "12                     yr   1.03\n",
       "13                holiday   1.02"
      ]
     },
     "execution_count": 69,
     "metadata": {},
     "output_type": "execute_result"
    }
   ],
   "source": [
    "# Calculating the VIF\n",
    "get_df_vif(X_train_rfe)"
   ]
  },
  {
   "cell_type": "markdown",
   "metadata": {},
   "source": [
    "From the above model, we can see that:\n",
    "- Feature 'mnth_December' has p-value 0.215 which is greater than 0.05. So, we will drop 'mnth_December' feature.\n",
    "- VIF values of all features is below 5."
   ]
  },
  {
   "cell_type": "markdown",
   "metadata": {},
   "source": [
    "#### 5.2.4 Fourth Model"
   ]
  },
  {
   "cell_type": "code",
   "execution_count": 70,
   "metadata": {},
   "outputs": [],
   "source": [
    "# Dropping 'mnth_December'.\n",
    "X_train_rfe = X_train_rfe.drop(['mnth_December'], axis=1)"
   ]
  },
  {
   "cell_type": "code",
   "execution_count": 71,
   "metadata": {},
   "outputs": [
    {
     "data": {
      "text/html": [
       "<table class=\"simpletable\">\n",
       "<caption>OLS Regression Results</caption>\n",
       "<tr>\n",
       "  <th>Dep. Variable:</th>           <td>cnt</td>       <th>  R-squared:         </th> <td>   0.841</td> \n",
       "</tr>\n",
       "<tr>\n",
       "  <th>Model:</th>                   <td>OLS</td>       <th>  Adj. R-squared:    </th> <td>   0.838</td> \n",
       "</tr>\n",
       "<tr>\n",
       "  <th>Method:</th>             <td>Least Squares</td>  <th>  F-statistic:       </th> <td>   219.8</td> \n",
       "</tr>\n",
       "<tr>\n",
       "  <th>Date:</th>             <td>Mon, 02 Aug 2021</td> <th>  Prob (F-statistic):</th> <td>6.03e-190</td>\n",
       "</tr>\n",
       "<tr>\n",
       "  <th>Time:</th>                 <td>14:15:05</td>     <th>  Log-Likelihood:    </th> <td>  508.17</td> \n",
       "</tr>\n",
       "<tr>\n",
       "  <th>No. Observations:</th>      <td>   510</td>      <th>  AIC:               </th> <td>  -990.3</td> \n",
       "</tr>\n",
       "<tr>\n",
       "  <th>Df Residuals:</th>          <td>   497</td>      <th>  BIC:               </th> <td>  -935.3</td> \n",
       "</tr>\n",
       "<tr>\n",
       "  <th>Df Model:</th>              <td>    12</td>      <th>                     </th>     <td> </td>    \n",
       "</tr>\n",
       "<tr>\n",
       "  <th>Covariance Type:</th>      <td>nonrobust</td>    <th>                     </th>     <td> </td>    \n",
       "</tr>\n",
       "</table>\n",
       "<table class=\"simpletable\">\n",
       "<tr>\n",
       "            <td></td>               <th>coef</th>     <th>std err</th>      <th>t</th>      <th>P>|t|</th>  <th>[0.025</th>    <th>0.975]</th>  \n",
       "</tr>\n",
       "<tr>\n",
       "  <th>const</th>                 <td>    0.2444</td> <td>    0.028</td> <td>    8.658</td> <td> 0.000</td> <td>    0.189</td> <td>    0.300</td>\n",
       "</tr>\n",
       "<tr>\n",
       "  <th>yr</th>                    <td>    0.2289</td> <td>    0.008</td> <td>   28.108</td> <td> 0.000</td> <td>    0.213</td> <td>    0.245</td>\n",
       "</tr>\n",
       "<tr>\n",
       "  <th>holiday</th>               <td>   -0.0986</td> <td>    0.026</td> <td>   -3.846</td> <td> 0.000</td> <td>   -0.149</td> <td>   -0.048</td>\n",
       "</tr>\n",
       "<tr>\n",
       "  <th>temp</th>                  <td>    0.5717</td> <td>    0.025</td> <td>   22.422</td> <td> 0.000</td> <td>    0.522</td> <td>    0.622</td>\n",
       "</tr>\n",
       "<tr>\n",
       "  <th>hum</th>                   <td>   -0.1764</td> <td>    0.038</td> <td>   -4.672</td> <td> 0.000</td> <td>   -0.251</td> <td>   -0.102</td>\n",
       "</tr>\n",
       "<tr>\n",
       "  <th>windspeed</th>             <td>   -0.1945</td> <td>    0.026</td> <td>   -7.541</td> <td> 0.000</td> <td>   -0.245</td> <td>   -0.144</td>\n",
       "</tr>\n",
       "<tr>\n",
       "  <th>season_summer</th>         <td>    0.0745</td> <td>    0.011</td> <td>    6.728</td> <td> 0.000</td> <td>    0.053</td> <td>    0.096</td>\n",
       "</tr>\n",
       "<tr>\n",
       "  <th>season_winter</th>         <td>    0.1258</td> <td>    0.011</td> <td>   10.986</td> <td> 0.000</td> <td>    0.103</td> <td>    0.148</td>\n",
       "</tr>\n",
       "<tr>\n",
       "  <th>mnth_January</th>          <td>   -0.0380</td> <td>    0.018</td> <td>   -2.164</td> <td> 0.031</td> <td>   -0.073</td> <td>   -0.003</td>\n",
       "</tr>\n",
       "<tr>\n",
       "  <th>mnth_July</th>             <td>   -0.0471</td> <td>    0.018</td> <td>   -2.612</td> <td> 0.009</td> <td>   -0.083</td> <td>   -0.012</td>\n",
       "</tr>\n",
       "<tr>\n",
       "  <th>mnth_September</th>        <td>    0.0941</td> <td>    0.016</td> <td>    5.846</td> <td> 0.000</td> <td>    0.062</td> <td>    0.126</td>\n",
       "</tr>\n",
       "<tr>\n",
       "  <th>weathersit_Light Snow</th> <td>   -0.2362</td> <td>    0.026</td> <td>   -8.946</td> <td> 0.000</td> <td>   -0.288</td> <td>   -0.184</td>\n",
       "</tr>\n",
       "<tr>\n",
       "  <th>weathersit_Mist</th>       <td>   -0.0519</td> <td>    0.011</td> <td>   -4.938</td> <td> 0.000</td> <td>   -0.073</td> <td>   -0.031</td>\n",
       "</tr>\n",
       "</table>\n",
       "<table class=\"simpletable\">\n",
       "<tr>\n",
       "  <th>Omnibus:</th>       <td>53.475</td> <th>  Durbin-Watson:     </th> <td>   2.065</td>\n",
       "</tr>\n",
       "<tr>\n",
       "  <th>Prob(Omnibus):</th> <td> 0.000</td> <th>  Jarque-Bera (JB):  </th> <td> 108.257</td>\n",
       "</tr>\n",
       "<tr>\n",
       "  <th>Skew:</th>          <td>-0.609</td> <th>  Prob(JB):          </th> <td>3.11e-24</td>\n",
       "</tr>\n",
       "<tr>\n",
       "  <th>Kurtosis:</th>      <td> 4.900</td> <th>  Cond. No.          </th> <td>    18.4</td>\n",
       "</tr>\n",
       "</table><br/><br/>Notes:<br/>[1] Standard Errors assume that the covariance matrix of the errors is correctly specified."
      ],
      "text/plain": [
       "<class 'statsmodels.iolib.summary.Summary'>\n",
       "\"\"\"\n",
       "                            OLS Regression Results                            \n",
       "==============================================================================\n",
       "Dep. Variable:                    cnt   R-squared:                       0.841\n",
       "Model:                            OLS   Adj. R-squared:                  0.838\n",
       "Method:                 Least Squares   F-statistic:                     219.8\n",
       "Date:                Mon, 02 Aug 2021   Prob (F-statistic):          6.03e-190\n",
       "Time:                        14:15:05   Log-Likelihood:                 508.17\n",
       "No. Observations:                 510   AIC:                            -990.3\n",
       "Df Residuals:                     497   BIC:                            -935.3\n",
       "Df Model:                          12                                         \n",
       "Covariance Type:            nonrobust                                         \n",
       "=========================================================================================\n",
       "                            coef    std err          t      P>|t|      [0.025      0.975]\n",
       "-----------------------------------------------------------------------------------------\n",
       "const                     0.2444      0.028      8.658      0.000       0.189       0.300\n",
       "yr                        0.2289      0.008     28.108      0.000       0.213       0.245\n",
       "holiday                  -0.0986      0.026     -3.846      0.000      -0.149      -0.048\n",
       "temp                      0.5717      0.025     22.422      0.000       0.522       0.622\n",
       "hum                      -0.1764      0.038     -4.672      0.000      -0.251      -0.102\n",
       "windspeed                -0.1945      0.026     -7.541      0.000      -0.245      -0.144\n",
       "season_summer             0.0745      0.011      6.728      0.000       0.053       0.096\n",
       "season_winter             0.1258      0.011     10.986      0.000       0.103       0.148\n",
       "mnth_January             -0.0380      0.018     -2.164      0.031      -0.073      -0.003\n",
       "mnth_July                -0.0471      0.018     -2.612      0.009      -0.083      -0.012\n",
       "mnth_September            0.0941      0.016      5.846      0.000       0.062       0.126\n",
       "weathersit_Light Snow    -0.2362      0.026     -8.946      0.000      -0.288      -0.184\n",
       "weathersit_Mist          -0.0519      0.011     -4.938      0.000      -0.073      -0.031\n",
       "==============================================================================\n",
       "Omnibus:                       53.475   Durbin-Watson:                   2.065\n",
       "Prob(Omnibus):                  0.000   Jarque-Bera (JB):              108.257\n",
       "Skew:                          -0.609   Prob(JB):                     3.11e-24\n",
       "Kurtosis:                       4.900   Cond. No.                         18.4\n",
       "==============================================================================\n",
       "\n",
       "Notes:\n",
       "[1] Standard Errors assume that the covariance matrix of the errors is correctly specified.\n",
       "\"\"\""
      ]
     },
     "execution_count": 71,
     "metadata": {},
     "output_type": "execute_result"
    }
   ],
   "source": [
    "# Running the linear model and checking the summary.\n",
    "X_train_rfe = sm.add_constant(X_train_rfe)\n",
    "lr_model = sm.OLS(y_train, X_train_rfe).fit()\n",
    "lr_model.summary()"
   ]
  },
  {
   "cell_type": "code",
   "execution_count": 72,
   "metadata": {},
   "outputs": [
    {
     "data": {
      "text/html": [
       "<div>\n",
       "<style scoped>\n",
       "    .dataframe tbody tr th:only-of-type {\n",
       "        vertical-align: middle;\n",
       "    }\n",
       "\n",
       "    .dataframe tbody tr th {\n",
       "        vertical-align: top;\n",
       "    }\n",
       "\n",
       "    .dataframe thead th {\n",
       "        text-align: right;\n",
       "    }\n",
       "</style>\n",
       "<table border=\"1\" class=\"dataframe\">\n",
       "  <thead>\n",
       "    <tr style=\"text-align: right;\">\n",
       "      <th></th>\n",
       "      <th>Features</th>\n",
       "      <th>VIF</th>\n",
       "    </tr>\n",
       "  </thead>\n",
       "  <tbody>\n",
       "    <tr>\n",
       "      <th>0</th>\n",
       "      <td>const</td>\n",
       "      <td>49.60</td>\n",
       "    </tr>\n",
       "    <tr>\n",
       "      <th>1</th>\n",
       "      <td>temp</td>\n",
       "      <td>2.06</td>\n",
       "    </tr>\n",
       "    <tr>\n",
       "      <th>2</th>\n",
       "      <td>hum</td>\n",
       "      <td>1.88</td>\n",
       "    </tr>\n",
       "    <tr>\n",
       "      <th>3</th>\n",
       "      <td>mnth_January</td>\n",
       "      <td>1.55</td>\n",
       "    </tr>\n",
       "    <tr>\n",
       "      <th>4</th>\n",
       "      <td>weathersit_Mist</td>\n",
       "      <td>1.55</td>\n",
       "    </tr>\n",
       "    <tr>\n",
       "      <th>5</th>\n",
       "      <td>season_winter</td>\n",
       "      <td>1.53</td>\n",
       "    </tr>\n",
       "    <tr>\n",
       "      <th>6</th>\n",
       "      <td>mnth_July</td>\n",
       "      <td>1.43</td>\n",
       "    </tr>\n",
       "    <tr>\n",
       "      <th>7</th>\n",
       "      <td>season_summer</td>\n",
       "      <td>1.41</td>\n",
       "    </tr>\n",
       "    <tr>\n",
       "      <th>8</th>\n",
       "      <td>weathersit_Light Snow</td>\n",
       "      <td>1.24</td>\n",
       "    </tr>\n",
       "    <tr>\n",
       "      <th>9</th>\n",
       "      <td>windspeed</td>\n",
       "      <td>1.19</td>\n",
       "    </tr>\n",
       "    <tr>\n",
       "      <th>10</th>\n",
       "      <td>mnth_September</td>\n",
       "      <td>1.19</td>\n",
       "    </tr>\n",
       "    <tr>\n",
       "      <th>11</th>\n",
       "      <td>yr</td>\n",
       "      <td>1.03</td>\n",
       "    </tr>\n",
       "    <tr>\n",
       "      <th>12</th>\n",
       "      <td>holiday</td>\n",
       "      <td>1.02</td>\n",
       "    </tr>\n",
       "  </tbody>\n",
       "</table>\n",
       "</div>"
      ],
      "text/plain": [
       "                 Features    VIF\n",
       "0                   const  49.60\n",
       "1                    temp   2.06\n",
       "2                     hum   1.88\n",
       "3            mnth_January   1.55\n",
       "4         weathersit_Mist   1.55\n",
       "5           season_winter   1.53\n",
       "6               mnth_July   1.43\n",
       "7           season_summer   1.41\n",
       "8   weathersit_Light Snow   1.24\n",
       "9               windspeed   1.19\n",
       "10         mnth_September   1.19\n",
       "11                     yr   1.03\n",
       "12                holiday   1.02"
      ]
     },
     "execution_count": 72,
     "metadata": {},
     "output_type": "execute_result"
    }
   ],
   "source": [
    "# Calculating the VIF\n",
    "get_df_vif(X_train_rfe)"
   ]
  },
  {
   "cell_type": "markdown",
   "metadata": {},
   "source": [
    "From the above model, we can see that:\n",
    "- P-value for all the features is below 0.05.\n",
    "- VIF value for all the features is well below 5. VIF value below 5 is acceptable.\n",
    "- So, we will finalize this as our final model.\n",
    "- The model has R-squared:\t0.841, Adj. R-squared:\t0.838 and F-statistic:\t219.8 which makes it a good model."
   ]
  },
  {
   "cell_type": "markdown",
   "metadata": {},
   "source": [
    "## Step 6: Residual analysis and Validating assumptions"
   ]
  },
  {
   "cell_type": "markdown",
   "metadata": {},
   "source": [
    "### 6.1 Error terms distributions"
   ]
  },
  {
   "cell_type": "code",
   "execution_count": 73,
   "metadata": {},
   "outputs": [],
   "source": [
    "# Predicting the values from our trained model.\n",
    "y_train_pred = lr_model.predict(X_train_rfe)"
   ]
  },
  {
   "cell_type": "code",
   "execution_count": 76,
   "metadata": {},
   "outputs": [],
   "source": [
    "# Calculating the residual terms\n",
    "res = y_train - y_train_pred"
   ]
  },
  {
   "cell_type": "code",
   "execution_count": 78,
   "metadata": {},
   "outputs": [
    {
     "data": {
      "image/png": "[encoded data removed]",
      "text/plain": [
       "<Figure size 864x576 with 1 Axes>"
      ]
     },
     "metadata": {
      "needs_background": "light"
     },
     "output_type": "display_data"
    }
   ],
   "source": [
    "# Plotting the error distribution\n",
    "plt.figure(figsize = (12, 8))\n",
    "sns.distplot(res)\n",
    "plt.xlabel('Residuals')\n",
    "plt.title('Histogram: Error Distribution', fontdict={'fontsize': 25})\n",
    "plt.show()"
   ]
  },
  {
   "cell_type": "markdown",
   "metadata": {},
   "source": [
    "- From the above plot we can see that, the error terms are normally distributed with mean lying around 0. So, the assumption is true in this case."
   ]
  },
  {
   "cell_type": "markdown",
   "metadata": {},
   "source": [
    "### 6.2 Independent error terms"
   ]
  },
  {
   "cell_type": "code",
   "execution_count": 80,
   "metadata": {},
   "outputs": [
    {
     "data": {
      "image/png": "[encoded data removed]",
      "text/plain": [
       "<Figure size 864x576 with 1 Axes>"
      ]
     },
     "metadata": {
      "needs_background": "light"
     },
     "output_type": "display_data"
    }
   ],
   "source": [
    "# Plotting scatter plot between 'ypred' and 'res' to check if there is any pattern present in the error terms.\n",
    "plt.figure(figsize = (12, 8))\n",
    "sns.scatterplot(x=y_train_pred, y=res)\n",
    "plt.title('Error Terms Vs. Predicted Values')\n",
    "plt.xlabel('y_train_pred')\n",
    "plt.ylabel('res')\n",
    "plt.show()"
   ]
  },
  {
   "cell_type": "markdown",
   "metadata": {},
   "source": [
    "- From the above plot we can see that, error terms are distributed well and does not follow any particular pattern. So, the assumption is true in this case."
   ]
  },
  {
   "cell_type": "markdown",
   "metadata": {},
   "source": [
    "### 6.3 Homoscedasticity"
   ]
  },
  {
   "cell_type": "code",
   "execution_count": 81,
   "metadata": {},
   "outputs": [
    {
     "data": {
      "image/png": "[encoded data removed]",
      "text/plain": [
       "<Figure size 864x576 with 1 Axes>"
      ]
     },
     "metadata": {
      "needs_background": "light"
     },
     "output_type": "display_data"
    }
   ],
   "source": [
    "# plotting regplot between 'y_train' and 'y_train_pred' to check Homoscedasticity.\n",
    "plt.figure(figsize = (12, 8))\n",
    "sns.regplot(x=y_train, y=y_train_pred)\n",
    "plt.title('Predicted values Vs. Actual values')\n",
    "plt.xlabel('Actual values')\n",
    "plt.ylabel('Predicted values')\n",
    "plt.show()"
   ]
  },
  {
   "cell_type": "markdown",
   "metadata": {},
   "source": [
    "- From the above plot we can see that, the residuals are equally distributed on both sides of the line. This proves the Homoscedasticity. So, this assumption is also true in this case."
   ]
  },
  {
   "cell_type": "markdown",
   "metadata": {},
   "source": [
    "## Step 7: Model Evaluation on test data"
   ]
  },
  {
   "cell_type": "markdown",
   "metadata": {},
   "source": [
    "### 7.1 Test data scaling"
   ]
  },
  {
   "cell_type": "code",
   "execution_count": 82,
   "metadata": {},
   "outputs": [
    {
     "data": {
      "text/html": [
       "<div>\n",
       "<style scoped>\n",
       "    .dataframe tbody tr th:only-of-type {\n",
       "        vertical-align: middle;\n",
       "    }\n",
       "\n",
       "    .dataframe tbody tr th {\n",
       "        vertical-align: top;\n",
       "    }\n",
       "\n",
       "    .dataframe thead th {\n",
       "        text-align: right;\n",
       "    }\n",
       "</style>\n",
       "<table border=\"1\" class=\"dataframe\">\n",
       "  <thead>\n",
       "    <tr style=\"text-align: right;\">\n",
       "      <th></th>\n",
       "      <th>yr</th>\n",
       "      <th>holiday</th>\n",
       "      <th>workingday</th>\n",
       "      <th>temp</th>\n",
       "      <th>hum</th>\n",
       "      <th>windspeed</th>\n",
       "      <th>cnt</th>\n",
       "      <th>season_spring</th>\n",
       "      <th>season_summer</th>\n",
       "      <th>season_winter</th>\n",
       "      <th>...</th>\n",
       "      <th>mnth_October</th>\n",
       "      <th>mnth_September</th>\n",
       "      <th>weathersit_Light Snow</th>\n",
       "      <th>weathersit_Mist</th>\n",
       "      <th>weekday_Mon</th>\n",
       "      <th>weekday_Sat</th>\n",
       "      <th>weekday_Sun</th>\n",
       "      <th>weekday_Thurs</th>\n",
       "      <th>weekday_Tue</th>\n",
       "      <th>weekday_Wed</th>\n",
       "    </tr>\n",
       "    <tr>\n",
       "      <th>instant</th>\n",
       "      <th></th>\n",
       "      <th></th>\n",
       "      <th></th>\n",
       "      <th></th>\n",
       "      <th></th>\n",
       "      <th></th>\n",
       "      <th></th>\n",
       "      <th></th>\n",
       "      <th></th>\n",
       "      <th></th>\n",
       "      <th></th>\n",
       "      <th></th>\n",
       "      <th></th>\n",
       "      <th></th>\n",
       "      <th></th>\n",
       "      <th></th>\n",
       "      <th></th>\n",
       "      <th></th>\n",
       "      <th></th>\n",
       "      <th></th>\n",
       "      <th></th>\n",
       "    </tr>\n",
       "  </thead>\n",
       "  <tbody>\n",
       "    <tr>\n",
       "      <th>185</th>\n",
       "      <td>0</td>\n",
       "      <td>1</td>\n",
       "      <td>0</td>\n",
       "      <td>0.831783</td>\n",
       "      <td>0.657364</td>\n",
       "      <td>0.084219</td>\n",
       "      <td>0.692706</td>\n",
       "      <td>0</td>\n",
       "      <td>0</td>\n",
       "      <td>0</td>\n",
       "      <td>...</td>\n",
       "      <td>0</td>\n",
       "      <td>0</td>\n",
       "      <td>0</td>\n",
       "      <td>1</td>\n",
       "      <td>0</td>\n",
       "      <td>0</td>\n",
       "      <td>0</td>\n",
       "      <td>0</td>\n",
       "      <td>0</td>\n",
       "      <td>1</td>\n",
       "    </tr>\n",
       "    <tr>\n",
       "      <th>536</th>\n",
       "      <td>1</td>\n",
       "      <td>0</td>\n",
       "      <td>1</td>\n",
       "      <td>0.901354</td>\n",
       "      <td>0.610133</td>\n",
       "      <td>0.153728</td>\n",
       "      <td>0.712034</td>\n",
       "      <td>0</td>\n",
       "      <td>1</td>\n",
       "      <td>0</td>\n",
       "      <td>...</td>\n",
       "      <td>0</td>\n",
       "      <td>0</td>\n",
       "      <td>0</td>\n",
       "      <td>0</td>\n",
       "      <td>0</td>\n",
       "      <td>0</td>\n",
       "      <td>0</td>\n",
       "      <td>1</td>\n",
       "      <td>0</td>\n",
       "      <td>0</td>\n",
       "    </tr>\n",
       "    <tr>\n",
       "      <th>300</th>\n",
       "      <td>0</td>\n",
       "      <td>0</td>\n",
       "      <td>0</td>\n",
       "      <td>0.511964</td>\n",
       "      <td>0.837699</td>\n",
       "      <td>0.334206</td>\n",
       "      <td>0.303382</td>\n",
       "      <td>0</td>\n",
       "      <td>0</td>\n",
       "      <td>1</td>\n",
       "      <td>...</td>\n",
       "      <td>1</td>\n",
       "      <td>0</td>\n",
       "      <td>0</td>\n",
       "      <td>1</td>\n",
       "      <td>0</td>\n",
       "      <td>1</td>\n",
       "      <td>0</td>\n",
       "      <td>0</td>\n",
       "      <td>0</td>\n",
       "      <td>0</td>\n",
       "    </tr>\n",
       "    <tr>\n",
       "      <th>222</th>\n",
       "      <td>0</td>\n",
       "      <td>0</td>\n",
       "      <td>1</td>\n",
       "      <td>0.881625</td>\n",
       "      <td>0.437098</td>\n",
       "      <td>0.339570</td>\n",
       "      <td>0.547400</td>\n",
       "      <td>0</td>\n",
       "      <td>0</td>\n",
       "      <td>0</td>\n",
       "      <td>...</td>\n",
       "      <td>0</td>\n",
       "      <td>0</td>\n",
       "      <td>0</td>\n",
       "      <td>0</td>\n",
       "      <td>0</td>\n",
       "      <td>0</td>\n",
       "      <td>0</td>\n",
       "      <td>0</td>\n",
       "      <td>0</td>\n",
       "      <td>0</td>\n",
       "    </tr>\n",
       "    <tr>\n",
       "      <th>153</th>\n",
       "      <td>0</td>\n",
       "      <td>0</td>\n",
       "      <td>0</td>\n",
       "      <td>0.817246</td>\n",
       "      <td>0.314298</td>\n",
       "      <td>0.537414</td>\n",
       "      <td>0.569029</td>\n",
       "      <td>0</td>\n",
       "      <td>1</td>\n",
       "      <td>0</td>\n",
       "      <td>...</td>\n",
       "      <td>0</td>\n",
       "      <td>0</td>\n",
       "      <td>0</td>\n",
       "      <td>0</td>\n",
       "      <td>0</td>\n",
       "      <td>1</td>\n",
       "      <td>0</td>\n",
       "      <td>0</td>\n",
       "      <td>0</td>\n",
       "      <td>0</td>\n",
       "    </tr>\n",
       "  </tbody>\n",
       "</table>\n",
       "<p>5 rows × 29 columns</p>\n",
       "</div>"
      ],
      "text/plain": [
       "         yr  holiday  workingday      temp       hum  windspeed       cnt  \\\n",
       "instant                                                                     \n",
       "185       0        1           0  0.831783  0.657364   0.084219  0.692706   \n",
       "536       1        0           1  0.901354  0.610133   0.153728  0.712034   \n",
       "300       0        0           0  0.511964  0.837699   0.334206  0.303382   \n",
       "222       0        0           1  0.881625  0.437098   0.339570  0.547400   \n",
       "153       0        0           0  0.817246  0.314298   0.537414  0.569029   \n",
       "\n",
       "         season_spring  season_summer  season_winter  ...  mnth_October  \\\n",
       "instant                                               ...                 \n",
       "185                  0              0              0  ...             0   \n",
       "536                  0              1              0  ...             0   \n",
       "300                  0              0              1  ...             1   \n",
       "222                  0              0              0  ...             0   \n",
       "153                  0              1              0  ...             0   \n",
       "\n",
       "         mnth_September  weathersit_Light Snow  weathersit_Mist  weekday_Mon  \\\n",
       "instant                                                                        \n",
       "185                   0                      0                1            0   \n",
       "536                   0                      0                0            0   \n",
       "300                   0                      0                1            0   \n",
       "222                   0                      0                0            0   \n",
       "153                   0                      0                0            0   \n",
       "\n",
       "         weekday_Sat  weekday_Sun  weekday_Thurs  weekday_Tue  weekday_Wed  \n",
       "instant                                                                     \n",
       "185                0            0              0            0            1  \n",
       "536                0            0              1            0            0  \n",
       "300                1            0              0            0            0  \n",
       "222                0            0              0            0            0  \n",
       "153                1            0              0            0            0  \n",
       "\n",
       "[5 rows x 29 columns]"
      ]
     },
     "execution_count": 82,
     "metadata": {},
     "output_type": "execute_result"
    }
   ],
   "source": [
    "# Applying 'scaler()' to all the columns except the 'yes-no'/'1-0' and 'dummy' variables.\n",
    "df_test[list(NumVras.columns)] = scaler.transform(df_test[list(NumVras.columns)])\n",
    "df_test.head()"
   ]
  },
  {
   "cell_type": "markdown",
   "metadata": {},
   "source": [
    "### 7.2 Dividing the test data into X and Y sets for evaluation"
   ]
  },
  {
   "cell_type": "code",
   "execution_count": 83,
   "metadata": {},
   "outputs": [],
   "source": [
    "y_test = df_test.pop('cnt')\n",
    "X_test = df_test"
   ]
  },
  {
   "cell_type": "code",
   "execution_count": 84,
   "metadata": {},
   "outputs": [
    {
     "data": {
      "text/plain": [
       "instant\n",
       "185    0.692706\n",
       "536    0.712034\n",
       "300    0.303382\n",
       "222    0.547400\n",
       "153    0.569029\n",
       "Name: cnt, dtype: float64"
      ]
     },
     "execution_count": 84,
     "metadata": {},
     "output_type": "execute_result"
    }
   ],
   "source": [
    "# Checking the heads\n",
    "y_test.head()"
   ]
  },
  {
   "cell_type": "code",
   "execution_count": 86,
   "metadata": {},
   "outputs": [
    {
     "data": {
      "text/html": [
       "<div>\n",
       "<style scoped>\n",
       "    .dataframe tbody tr th:only-of-type {\n",
       "        vertical-align: middle;\n",
       "    }\n",
       "\n",
       "    .dataframe tbody tr th {\n",
       "        vertical-align: top;\n",
       "    }\n",
       "\n",
       "    .dataframe thead th {\n",
       "        text-align: right;\n",
       "    }\n",
       "</style>\n",
       "<table border=\"1\" class=\"dataframe\">\n",
       "  <thead>\n",
       "    <tr style=\"text-align: right;\">\n",
       "      <th></th>\n",
       "      <th>yr</th>\n",
       "      <th>holiday</th>\n",
       "      <th>workingday</th>\n",
       "      <th>temp</th>\n",
       "      <th>hum</th>\n",
       "      <th>windspeed</th>\n",
       "      <th>season_spring</th>\n",
       "      <th>season_summer</th>\n",
       "      <th>season_winter</th>\n",
       "      <th>mnth_August</th>\n",
       "      <th>...</th>\n",
       "      <th>mnth_October</th>\n",
       "      <th>mnth_September</th>\n",
       "      <th>weathersit_Light Snow</th>\n",
       "      <th>weathersit_Mist</th>\n",
       "      <th>weekday_Mon</th>\n",
       "      <th>weekday_Sat</th>\n",
       "      <th>weekday_Sun</th>\n",
       "      <th>weekday_Thurs</th>\n",
       "      <th>weekday_Tue</th>\n",
       "      <th>weekday_Wed</th>\n",
       "    </tr>\n",
       "    <tr>\n",
       "      <th>instant</th>\n",
       "      <th></th>\n",
       "      <th></th>\n",
       "      <th></th>\n",
       "      <th></th>\n",
       "      <th></th>\n",
       "      <th></th>\n",
       "      <th></th>\n",
       "      <th></th>\n",
       "      <th></th>\n",
       "      <th></th>\n",
       "      <th></th>\n",
       "      <th></th>\n",
       "      <th></th>\n",
       "      <th></th>\n",
       "      <th></th>\n",
       "      <th></th>\n",
       "      <th></th>\n",
       "      <th></th>\n",
       "      <th></th>\n",
       "      <th></th>\n",
       "      <th></th>\n",
       "    </tr>\n",
       "  </thead>\n",
       "  <tbody>\n",
       "    <tr>\n",
       "      <th>185</th>\n",
       "      <td>0</td>\n",
       "      <td>1</td>\n",
       "      <td>0</td>\n",
       "      <td>0.831783</td>\n",
       "      <td>0.657364</td>\n",
       "      <td>0.084219</td>\n",
       "      <td>0</td>\n",
       "      <td>0</td>\n",
       "      <td>0</td>\n",
       "      <td>0</td>\n",
       "      <td>...</td>\n",
       "      <td>0</td>\n",
       "      <td>0</td>\n",
       "      <td>0</td>\n",
       "      <td>1</td>\n",
       "      <td>0</td>\n",
       "      <td>0</td>\n",
       "      <td>0</td>\n",
       "      <td>0</td>\n",
       "      <td>0</td>\n",
       "      <td>1</td>\n",
       "    </tr>\n",
       "    <tr>\n",
       "      <th>536</th>\n",
       "      <td>1</td>\n",
       "      <td>0</td>\n",
       "      <td>1</td>\n",
       "      <td>0.901354</td>\n",
       "      <td>0.610133</td>\n",
       "      <td>0.153728</td>\n",
       "      <td>0</td>\n",
       "      <td>1</td>\n",
       "      <td>0</td>\n",
       "      <td>0</td>\n",
       "      <td>...</td>\n",
       "      <td>0</td>\n",
       "      <td>0</td>\n",
       "      <td>0</td>\n",
       "      <td>0</td>\n",
       "      <td>0</td>\n",
       "      <td>0</td>\n",
       "      <td>0</td>\n",
       "      <td>1</td>\n",
       "      <td>0</td>\n",
       "      <td>0</td>\n",
       "    </tr>\n",
       "    <tr>\n",
       "      <th>300</th>\n",
       "      <td>0</td>\n",
       "      <td>0</td>\n",
       "      <td>0</td>\n",
       "      <td>0.511964</td>\n",
       "      <td>0.837699</td>\n",
       "      <td>0.334206</td>\n",
       "      <td>0</td>\n",
       "      <td>0</td>\n",
       "      <td>1</td>\n",
       "      <td>0</td>\n",
       "      <td>...</td>\n",
       "      <td>1</td>\n",
       "      <td>0</td>\n",
       "      <td>0</td>\n",
       "      <td>1</td>\n",
       "      <td>0</td>\n",
       "      <td>1</td>\n",
       "      <td>0</td>\n",
       "      <td>0</td>\n",
       "      <td>0</td>\n",
       "      <td>0</td>\n",
       "    </tr>\n",
       "    <tr>\n",
       "      <th>222</th>\n",
       "      <td>0</td>\n",
       "      <td>0</td>\n",
       "      <td>1</td>\n",
       "      <td>0.881625</td>\n",
       "      <td>0.437098</td>\n",
       "      <td>0.339570</td>\n",
       "      <td>0</td>\n",
       "      <td>0</td>\n",
       "      <td>0</td>\n",
       "      <td>1</td>\n",
       "      <td>...</td>\n",
       "      <td>0</td>\n",
       "      <td>0</td>\n",
       "      <td>0</td>\n",
       "      <td>0</td>\n",
       "      <td>0</td>\n",
       "      <td>0</td>\n",
       "      <td>0</td>\n",
       "      <td>0</td>\n",
       "      <td>0</td>\n",
       "      <td>0</td>\n",
       "    </tr>\n",
       "    <tr>\n",
       "      <th>153</th>\n",
       "      <td>0</td>\n",
       "      <td>0</td>\n",
       "      <td>0</td>\n",
       "      <td>0.817246</td>\n",
       "      <td>0.314298</td>\n",
       "      <td>0.537414</td>\n",
       "      <td>0</td>\n",
       "      <td>1</td>\n",
       "      <td>0</td>\n",
       "      <td>0</td>\n",
       "      <td>...</td>\n",
       "      <td>0</td>\n",
       "      <td>0</td>\n",
       "      <td>0</td>\n",
       "      <td>0</td>\n",
       "      <td>0</td>\n",
       "      <td>1</td>\n",
       "      <td>0</td>\n",
       "      <td>0</td>\n",
       "      <td>0</td>\n",
       "      <td>0</td>\n",
       "    </tr>\n",
       "  </tbody>\n",
       "</table>\n",
       "<p>5 rows × 28 columns</p>\n",
       "</div>"
      ],
      "text/plain": [
       "         yr  holiday  workingday      temp       hum  windspeed  \\\n",
       "instant                                                           \n",
       "185       0        1           0  0.831783  0.657364   0.084219   \n",
       "536       1        0           1  0.901354  0.610133   0.153728   \n",
       "300       0        0           0  0.511964  0.837699   0.334206   \n",
       "222       0        0           1  0.881625  0.437098   0.339570   \n",
       "153       0        0           0  0.817246  0.314298   0.537414   \n",
       "\n",
       "         season_spring  season_summer  season_winter  mnth_August  ...  \\\n",
       "instant                                                            ...   \n",
       "185                  0              0              0            0  ...   \n",
       "536                  0              1              0            0  ...   \n",
       "300                  0              0              1            0  ...   \n",
       "222                  0              0              0            1  ...   \n",
       "153                  0              1              0            0  ...   \n",
       "\n",
       "         mnth_October  mnth_September  weathersit_Light Snow  weathersit_Mist  \\\n",
       "instant                                                                         \n",
       "185                 0               0                      0                1   \n",
       "536                 0               0                      0                0   \n",
       "300                 1               0                      0                1   \n",
       "222                 0               0                      0                0   \n",
       "153                 0               0                      0                0   \n",
       "\n",
       "         weekday_Mon  weekday_Sat  weekday_Sun  weekday_Thurs  weekday_Tue  \\\n",
       "instant                                                                      \n",
       "185                0            0            0              0            0   \n",
       "536                0            0            0              1            0   \n",
       "300                0            1            0              0            0   \n",
       "222                0            0            0              0            0   \n",
       "153                0            1            0              0            0   \n",
       "\n",
       "         weekday_Wed  \n",
       "instant               \n",
       "185                1  \n",
       "536                0  \n",
       "300                0  \n",
       "222                0  \n",
       "153                0  \n",
       "\n",
       "[5 rows x 28 columns]"
      ]
     },
     "execution_count": 86,
     "metadata": {},
     "output_type": "execute_result"
    }
   ],
   "source": [
    "X_test.head()"
   ]
  },
  {
   "cell_type": "markdown",
   "metadata": {},
   "source": [
    "### 7.3 Filtering the test data with features present in the final model"
   ]
  },
  {
   "cell_type": "code",
   "execution_count": 90,
   "metadata": {},
   "outputs": [
    {
     "data": {
      "text/plain": [
       "Index(['const', 'yr', 'holiday', 'temp', 'hum', 'windspeed', 'season_summer',\n",
       "       'season_winter', 'mnth_January', 'mnth_July', 'mnth_September',\n",
       "       'weathersit_Light Snow', 'weathersit_Mist'],\n",
       "      dtype='object')"
      ]
     },
     "execution_count": 90,
     "metadata": {},
     "output_type": "execute_result"
    }
   ],
   "source": [
    "X_train_rfe.columns"
   ]
  },
  {
   "cell_type": "code",
   "execution_count": 91,
   "metadata": {},
   "outputs": [],
   "source": [
    "X_test_new = X_test[['yr', 'holiday', 'temp', 'hum', 'windspeed', 'season_summer',\n",
    "       'season_winter', 'mnth_January', 'mnth_July', 'mnth_September',\n",
    "       'weathersit_Light Snow', 'weathersit_Mist']]"
   ]
  },
  {
   "cell_type": "code",
   "execution_count": 92,
   "metadata": {},
   "outputs": [],
   "source": [
    "# Adding constant\n",
    "X_test_new = sm.add_constant(X_test_new)"
   ]
  },
  {
   "cell_type": "markdown",
   "metadata": {},
   "source": [
    "### 7.4 Prediction on test data"
   ]
  },
  {
   "cell_type": "code",
   "execution_count": 93,
   "metadata": {},
   "outputs": [],
   "source": [
    "y_test_pred = lr_model.predict(X_test_new)"
   ]
  },
  {
   "cell_type": "code",
   "execution_count": 98,
   "metadata": {},
   "outputs": [
    {
     "data": {
      "image/png": "[encoded data removed]",
      "text/plain": [
       "<Figure size 864x576 with 1 Axes>"
      ]
     },
     "metadata": {
      "needs_background": "light"
     },
     "output_type": "display_data"
    }
   ],
   "source": [
    "# Plotting a scatter plot between 'y_test' and 'y_test_pred' to check the spread.\n",
    "plt.figure(figsize = (12, 8))\n",
    "sns.scatterplot(x=y_test, y=y_test_pred)\n",
    "plt.title('y_test vs y_pred \\n', fontsize = 20)              # Plot heading \n",
    "plt.xlabel('y_test')                                      # X-label\n",
    "plt.ylabel('y_test_pred')                                 # Y-label\n",
    "plt.show()"
   ]
  },
  {
   "cell_type": "code",
   "execution_count": 99,
   "metadata": {},
   "outputs": [
    {
     "data": {
      "image/png": "[encoded data removed]",
      "text/plain": [
       "<Figure size 864x576 with 1 Axes>"
      ]
     },
     "metadata": {
      "needs_background": "light"
     },
     "output_type": "display_data"
    }
   ],
   "source": [
    "# Plotting a regplot plot between 'y_test' and 'y_test_pred'.\n",
    "plt.figure(figsize = (12, 8))\n",
    "sns.regplot(x=y_test, y=y_test_pred)\n",
    "plt.title('y_test vs y_pred \\n', fontsize = 20)              # Plot heading \n",
    "plt.xlabel('y_test')                                      # X-label\n",
    "plt.ylabel('y_test_pred')                                 # Y-label\n",
    "plt.show()"
   ]
  },
  {
   "cell_type": "markdown",
   "metadata": {},
   "source": [
    "- From the above plot we can see that, the points are nicely hugging the line. it shows the linear relation between the actual values and the predicted values."
   ]
  },
  {
   "cell_type": "markdown",
   "metadata": {},
   "source": [
    "### 7.5 R-Squared value for test data"
   ]
  },
  {
   "cell_type": "code",
   "execution_count": 101,
   "metadata": {},
   "outputs": [
    {
     "data": {
      "text/plain": [
       "0.8029170032329543"
      ]
     },
     "execution_count": 101,
     "metadata": {},
     "output_type": "execute_result"
    }
   ],
   "source": [
    "# Importing 'r2_score' from 'sklearn' library.\n",
    "from sklearn.metrics import r2_score\n",
    "r2_score(y_test, y_test_pred)"
   ]
  },
  {
   "cell_type": "code",
   "execution_count": 102,
   "metadata": {},
   "outputs": [
    {
     "data": {
      "text/plain": [
       "0.7738731931830739"
      ]
     },
     "execution_count": 102,
     "metadata": {},
     "output_type": "execute_result"
    }
   ],
   "source": [
    "# Calculating Adj.R-squared value for test data.\n",
    "r2 = 0.8029170032329543    # r2 is the R-squared value calculated above.\n",
    "n = X_test.shape[0]        # n is the number of rows in X\n",
    "p = X_test.shape[1]        # p is the number of predictors\n",
    "\n",
    "# We will find the Adj.R-squared value using the formula\n",
    "adj_r2 = 1-(1-r2)*(n-1)/(n-p-1)\n",
    "adj_r2"
   ]
  },
  {
   "cell_type": "markdown",
   "metadata": {},
   "source": [
    "- R-squared value for the test data is 0.802 which is close to the R-squared value of train data 0.841.\n",
    "- Adj.R-squared value for the test data is 0.773 which is close to Adj.R-squared value of train data 0.838.\n",
    "- So, from this we can conclude that our model is generalizing well on the test data."
   ]
  },
  {
   "cell_type": "markdown",
   "metadata": {},
   "source": [
    "### 7.6 Equation of best fitted line for our model"
   ]
  },
  {
   "cell_type": "markdown",
   "metadata": {},
   "source": [
    "- Equation for best fit line for our model\n",
    "\n",
    "cnt = 0.2444 + 0.2289(yr) - 0.0986(holiday) + 0.5717(temp) - 0.1764(hum) - 0.1945(windspeed) + 0.0745(season_summer) + 0.1258(season_winter) - 0.0380(mnth_January) - 0.0471(mnth_July) + 0.0941(mnth_September) - 0.2362(weathersit_Light Snow) - 0.0519(weathersit_Mist)"
   ]
  }
 ],
 "metadata": {
  "kernelspec": {
   "display_name": "Python 3",
   "language": "python",
   "name": "python3"
  },
  "language_info": {
   "codemirror_mode": {
    "name": "ipython",
    "version": 3
   },
   "file_extension": ".py",
   "mimetype": "text/x-python",
   "name": "python",
   "nbconvert_exporter": "python",
   "pygments_lexer": "ipython3",
   "version": "3.8.5"
  }
 },
 "nbformat": 4,
 "nbformat_minor": 4
}
